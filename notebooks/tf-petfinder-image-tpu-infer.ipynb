{
 "cells": [
  {
   "cell_type": "markdown",
   "id": "16233349",
   "metadata": {
    "papermill": {
     "duration": 0.01735,
     "end_time": "2021-09-27T19:10:22.316542",
     "exception": false,
     "start_time": "2021-09-27T19:10:22.299192",
     "status": "completed"
    },
    "tags": []
   },
   "source": [
    "# [PetFinder.my - Pawpularity Contest](https://www.kaggle.com/c/petfinder-pawpularity-score)\n",
    "> Predict the popularity of shelter pet photos\n",
    "\n",
    "![](https://storage.googleapis.com/kaggle-competitions/kaggle/25383/logos/header.png)"
   ]
  },
  {
   "cell_type": "markdown",
   "id": "ee515c33",
   "metadata": {
    "papermill": {
     "duration": 0.01585,
     "end_time": "2021-09-27T19:10:22.349203",
     "exception": false,
     "start_time": "2021-09-27T19:10:22.333353",
     "status": "completed"
    },
    "tags": []
   },
   "source": [
    "# Idea:\n",
    "* Basic idea of this notebook is to use only **Image** Feature.\n",
    "* Tabular data will be merged on later Notebooks. \n",
    "* **Wandb** is integrated hence we can use this notebook to track which experiemnt is peforming better and also do error analysis using **Grad-CAM** at the end.\n"
   ]
  },
  {
   "cell_type": "markdown",
   "id": "7f027ec3",
   "metadata": {
    "papermill": {
     "duration": 0.015987,
     "end_time": "2021-09-27T19:10:22.381216",
     "exception": false,
     "start_time": "2021-09-27T19:10:22.365229",
     "status": "completed"
    },
    "tags": []
   },
   "source": [
    "# Notebooks:\n",
    "* train: [[TF] PetFinder: Image [TPU][Train] 🐶](https://www.kaggle.com/awsaf49/tf-petfinder-image-tpu-train)\n",
    "* infer: [[TF] PetFinder: Image [TPU][Infer] 🐶](https://www.kaggle.com/awsaf49/tf-petfinder-image-tpu-infer)\n"
   ]
  },
  {
   "cell_type": "markdown",
   "id": "8473a55e",
   "metadata": {
    "papermill": {
     "duration": 0.016349,
     "end_time": "2021-09-27T19:10:22.413627",
     "exception": false,
     "start_time": "2021-09-27T19:10:22.397278",
     "status": "completed"
    },
    "tags": []
   },
   "source": [
    "# Content:\n",
    "* Install Libraries.\n",
    "* Import Libraries.\n",
    "* Libraries Version Check\n",
    "* Configuration.\n",
    "* DEVICE Configs.\n",
    "* Meta Data.\n",
    "* Train-Test Distrubution\n",
    "* Data Augmentation.\n",
    "* Data Pipeline.\n",
    "* Model Config.\n",
    "* Inference\n",
    "\n",
    "\n",
    "\n"
   ]
  },
  {
   "cell_type": "markdown",
   "id": "d4645983",
   "metadata": {
    "papermill": {
     "duration": 0.015949,
     "end_time": "2021-09-27T19:10:22.445786",
     "exception": false,
     "start_time": "2021-09-27T19:10:22.429837",
     "status": "completed"
    },
    "tags": []
   },
   "source": [
    "# Install Libraries"
   ]
  },
  {
   "cell_type": "code",
   "execution_count": 1,
   "id": "f0afc1e7",
   "metadata": {
    "_kg_hide-input": false,
    "_kg_hide-output": true,
    "execution": {
     "iopub.execute_input": "2021-09-27T19:10:22.561223Z",
     "iopub.status.busy": "2021-09-27T19:10:22.560496Z",
     "iopub.status.idle": "2021-09-27T19:10:52.367685Z",
     "shell.execute_reply": "2021-09-27T19:10:52.367029Z",
     "shell.execute_reply.started": "2021-09-26T13:00:44.653072Z"
    },
    "papermill": {
     "duration": 29.905,
     "end_time": "2021-09-27T19:10:52.367828",
     "exception": false,
     "start_time": "2021-09-27T19:10:22.462828",
     "status": "completed"
    },
    "tags": []
   },
   "outputs": [
    {
     "name": "stdout",
     "output_type": "stream",
     "text": [
      "\u001b[33m  DEPRECATION: A future pip version will change local packages to be built in-place without first copying to a temporary directory. We recommend you use --use-feature=in-tree-build to test your packages with this new behavior before it becomes the default.\r\n",
      "   pip 21.3 will remove support for this functionality. You can find discussion regarding this at https://github.com/pypa/pip/issues/7555.\u001b[0m\r\n",
      "\u001b[33mWARNING: Running pip as the 'root' user can result in broken permissions and conflicting behaviour with the system package manager. It is recommended to use a virtual environment instead: https://pip.pypa.io/warnings/venv\u001b[0m\r\n"
     ]
    }
   ],
   "source": [
    "!pip install -q /kaggle/input/efficientnet-keras-dataset/efficientnet_kaggle"
   ]
  },
  {
   "cell_type": "markdown",
   "id": "7ddcbda0",
   "metadata": {
    "papermill": {
     "duration": 0.016488,
     "end_time": "2021-09-27T19:10:52.402114",
     "exception": false,
     "start_time": "2021-09-27T19:10:52.385626",
     "status": "completed"
    },
    "tags": []
   },
   "source": [
    "# Import Libraries"
   ]
  },
  {
   "cell_type": "code",
   "execution_count": 2,
   "id": "f87215da",
   "metadata": {
    "execution": {
     "iopub.execute_input": "2021-09-27T19:10:52.443467Z",
     "iopub.status.busy": "2021-09-27T19:10:52.440744Z",
     "iopub.status.idle": "2021-09-27T19:10:57.644604Z",
     "shell.execute_reply": "2021-09-27T19:10:57.644090Z",
     "shell.execute_reply.started": "2021-09-26T13:00:54.779934Z"
    },
    "papermill": {
     "duration": 5.226078,
     "end_time": "2021-09-27T19:10:57.644742",
     "exception": false,
     "start_time": "2021-09-27T19:10:52.418664",
     "status": "completed"
    },
    "tags": []
   },
   "outputs": [
    {
     "name": "stderr",
     "output_type": "stream",
     "text": [
      "2021-09-27 19:10:52.928405: I tensorflow/stream_executor/platform/default/dso_loader.cc:49] Successfully opened dynamic library libcudart.so.11.0\n"
     ]
    }
   ],
   "source": [
    "import pandas as pd, numpy as np, random,os, shutil\n",
    "import tensorflow as tf, re, math\n",
    "import tensorflow.keras.backend as K\n",
    "import efficientnet.tfkeras as efn\n",
    "import sklearn\n",
    "import matplotlib.pyplot as plt\n",
    "import tensorflow_addons as tfa\n",
    "import yaml\n",
    "\n",
    "from glob import glob\n",
    "from tqdm.notebook import tqdm\n",
    "from sklearn.model_selection import KFold, StratifiedKFold, GroupKFold\n",
    "from sklearn.metrics import roc_auc_score"
   ]
  },
  {
   "cell_type": "markdown",
   "id": "0d82790d",
   "metadata": {
    "papermill": {
     "duration": 0.017693,
     "end_time": "2021-09-27T19:10:57.681958",
     "exception": false,
     "start_time": "2021-09-27T19:10:57.664265",
     "status": "completed"
    },
    "tags": []
   },
   "source": [
    "# Version Check"
   ]
  },
  {
   "cell_type": "code",
   "execution_count": 3,
   "id": "5f42c2db",
   "metadata": {
    "execution": {
     "iopub.execute_input": "2021-09-27T19:10:57.723636Z",
     "iopub.status.busy": "2021-09-27T19:10:57.722920Z",
     "iopub.status.idle": "2021-09-27T19:10:57.726009Z",
     "shell.execute_reply": "2021-09-27T19:10:57.726415Z",
     "shell.execute_reply.started": "2021-09-26T13:00:59.949319Z"
    },
    "papermill": {
     "duration": 0.027314,
     "end_time": "2021-09-27T19:10:57.726534",
     "exception": false,
     "start_time": "2021-09-27T19:10:57.699220",
     "status": "completed"
    },
    "tags": []
   },
   "outputs": [
    {
     "name": "stdout",
     "output_type": "stream",
     "text": [
      "np: 1.19.5\n",
      "pd: 1.2.5\n",
      "sklearn: 0.23.2\n",
      "tf: 2.4.1\n",
      "tfa: 0.12.1\n"
     ]
    }
   ],
   "source": [
    "print('np:', np.__version__)\n",
    "print('pd:', pd.__version__)\n",
    "print('sklearn:', sklearn.__version__)\n",
    "print('tf:',tf.__version__)\n",
    "print('tfa:', tfa.__version__)"
   ]
  },
  {
   "cell_type": "markdown",
   "id": "5974ad7e",
   "metadata": {
    "papermill": {
     "duration": 0.016898,
     "end_time": "2021-09-27T19:10:57.760615",
     "exception": false,
     "start_time": "2021-09-27T19:10:57.743717",
     "status": "completed"
    },
    "tags": []
   },
   "source": [
    "# Configuration"
   ]
  },
  {
   "cell_type": "code",
   "execution_count": 4,
   "id": "852d61a0",
   "metadata": {
    "execution": {
     "iopub.execute_input": "2021-09-27T19:10:57.802062Z",
     "iopub.status.busy": "2021-09-27T19:10:57.801301Z",
     "iopub.status.idle": "2021-09-27T19:10:57.803775Z",
     "shell.execute_reply": "2021-09-27T19:10:57.803360Z",
     "shell.execute_reply.started": "2021-09-26T13:00:59.963988Z"
    },
    "papermill": {
     "duration": 0.026087,
     "end_time": "2021-09-27T19:10:57.803873",
     "exception": false,
     "start_time": "2021-09-27T19:10:57.777786",
     "status": "completed"
    },
    "tags": []
   },
   "outputs": [],
   "source": [
    "class CFG:\n",
    "    # DBUG OR not\n",
    "    debug = False\n",
    "    \n",
    "    # DEVICE\n",
    "    device = 'GPU'\n",
    "\n",
    "\n",
    "    # IMAGE SIZE\n",
    "    img_size = [512, 512]\n",
    "\n",
    "    # BATCH SIZE AND EPOCHS\n",
    "    batch_size  = 32\n",
    "\n",
    "    # CFG.augmentATION\n",
    "    augment   = True\n",
    "    transform = False\n",
    "\n",
    "    # TRANSFORMATION\n",
    "    fill_mode = 'nearest'\n",
    "    rot    = 10.0\n",
    "    shr    = 5.0\n",
    "    hzoom  = 30.0\n",
    "    wzoom  = 30.0\n",
    "    hshift = 30.0\n",
    "    wshift = 30.0\n",
    "\n",
    "    # FLIP\n",
    "    hflip = True\n",
    "    vflip = False\n",
    "\n",
    "    # CLIP [0, 1]\n",
    "    clip = False\n",
    "\n",
    "    # Dropout\n",
    "    drop_prob   = 0.75\n",
    "    drop_cnt    = 10\n",
    "    drop_size   = 0.05\n",
    "\n",
    "    #bri, contrast\n",
    "    sat  = [0.7, 1.3]\n",
    "    cont = [0.8, 1.2]\n",
    "    bri  =  0.15\n",
    "    hue  = 0.05\n",
    "\n",
    "    # TEST TIME CFG.augmentATION STEPS\n",
    "    tta = 5\n",
    "    \n",
    "    tab_cols    = ['Subject Focus', 'Eyes', 'Face', 'Near', 'Action', 'Accessory',\n",
    "                   'Group', 'Collage', 'Human', 'Occlusion', 'Info', 'Blur']\n",
    "    target_col  = ['Pawpularity']"
   ]
  },
  {
   "cell_type": "markdown",
   "id": "bb6b91a7",
   "metadata": {
    "papermill": {
     "duration": 0.017268,
     "end_time": "2021-09-27T19:10:57.838177",
     "exception": false,
     "start_time": "2021-09-27T19:10:57.820909",
     "status": "completed"
    },
    "tags": []
   },
   "source": [
    "# DEVICE Configs"
   ]
  },
  {
   "cell_type": "code",
   "execution_count": 5,
   "id": "007bcb79",
   "metadata": {
    "_kg_hide-input": true,
    "execution": {
     "iopub.execute_input": "2021-09-27T19:10:57.880187Z",
     "iopub.status.busy": "2021-09-27T19:10:57.879541Z",
     "iopub.status.idle": "2021-09-27T19:10:58.028911Z",
     "shell.execute_reply": "2021-09-27T19:10:58.029346Z",
     "shell.execute_reply.started": "2021-09-26T13:00:59.973712Z"
    },
    "papermill": {
     "duration": 0.174047,
     "end_time": "2021-09-27T19:10:58.029499",
     "exception": false,
     "start_time": "2021-09-27T19:10:57.855452",
     "status": "completed"
    },
    "tags": []
   },
   "outputs": [
    {
     "name": "stdout",
     "output_type": "stream",
     "text": [
      "Using default strategy for CPU and single GPU\n",
      "Num GPUs Available:  1\n",
      "REPLICAS: 1\n"
     ]
    },
    {
     "name": "stderr",
     "output_type": "stream",
     "text": [
      "2021-09-27 19:10:57.885253: I tensorflow/compiler/jit/xla_cpu_device.cc:41] Not creating XLA devices, tf_xla_enable_xla_devices not set\n",
      "2021-09-27 19:10:57.889001: I tensorflow/stream_executor/platform/default/dso_loader.cc:49] Successfully opened dynamic library libcuda.so.1\n",
      "2021-09-27 19:10:57.931379: I tensorflow/stream_executor/cuda/cuda_gpu_executor.cc:941] successful NUMA node read from SysFS had negative value (-1), but there must be at least one NUMA node, so returning NUMA node zero\n",
      "2021-09-27 19:10:57.932004: I tensorflow/core/common_runtime/gpu/gpu_device.cc:1720] Found device 0 with properties: \n",
      "pciBusID: 0000:00:04.0 name: Tesla P100-PCIE-16GB computeCapability: 6.0\n",
      "coreClock: 1.3285GHz coreCount: 56 deviceMemorySize: 15.90GiB deviceMemoryBandwidth: 681.88GiB/s\n",
      "2021-09-27 19:10:57.932054: I tensorflow/stream_executor/platform/default/dso_loader.cc:49] Successfully opened dynamic library libcudart.so.11.0\n",
      "2021-09-27 19:10:57.957861: I tensorflow/stream_executor/platform/default/dso_loader.cc:49] Successfully opened dynamic library libcublas.so.11\n",
      "2021-09-27 19:10:57.957946: I tensorflow/stream_executor/platform/default/dso_loader.cc:49] Successfully opened dynamic library libcublasLt.so.11\n",
      "2021-09-27 19:10:57.975834: I tensorflow/stream_executor/platform/default/dso_loader.cc:49] Successfully opened dynamic library libcufft.so.10\n",
      "2021-09-27 19:10:57.984127: I tensorflow/stream_executor/platform/default/dso_loader.cc:49] Successfully opened dynamic library libcurand.so.10\n",
      "2021-09-27 19:10:58.007929: I tensorflow/stream_executor/platform/default/dso_loader.cc:49] Successfully opened dynamic library libcusolver.so.10\n",
      "2021-09-27 19:10:58.015530: I tensorflow/stream_executor/platform/default/dso_loader.cc:49] Successfully opened dynamic library libcusparse.so.11\n",
      "2021-09-27 19:10:58.018241: I tensorflow/stream_executor/platform/default/dso_loader.cc:49] Successfully opened dynamic library libcudnn.so.8\n",
      "2021-09-27 19:10:58.018433: I tensorflow/stream_executor/cuda/cuda_gpu_executor.cc:941] successful NUMA node read from SysFS had negative value (-1), but there must be at least one NUMA node, so returning NUMA node zero\n",
      "2021-09-27 19:10:58.019160: I tensorflow/stream_executor/cuda/cuda_gpu_executor.cc:941] successful NUMA node read from SysFS had negative value (-1), but there must be at least one NUMA node, so returning NUMA node zero\n",
      "2021-09-27 19:10:58.020780: I tensorflow/core/common_runtime/gpu/gpu_device.cc:1862] Adding visible gpu devices: 0\n"
     ]
    }
   ],
   "source": [
    "if CFG.device == \"TPU\":\n",
    "    print(\"connecting to TPU...\")\n",
    "    try:\n",
    "        tpu = tf.distribute.cluster_resolver.TPUClusterResolver()\n",
    "        print('Running on TPU ', tpu.master())\n",
    "    except ValueError:\n",
    "        print(\"Could not connect to TPU\")\n",
    "        tpu = None\n",
    "\n",
    "    if tpu:\n",
    "        try:\n",
    "            print(\"initializing  TPU ...\")\n",
    "            tf.config.experimental_connect_to_cluster(tpu)\n",
    "            tf.tpu.experimental.initialize_tpu_system(tpu)\n",
    "            strategy = tf.distribute.experimental.TPUStrategy(tpu)\n",
    "            print(\"TPU initialized\")\n",
    "        except _:\n",
    "            print(\"failed to initialize TPU\")\n",
    "    else:\n",
    "        CFG.device = \"GPU\"\n",
    "\n",
    "if CFG.device != \"TPU\":\n",
    "    print(\"Using default strategy for CPU and single GPU\")\n",
    "    strategy = tf.distribute.get_strategy()\n",
    "\n",
    "if CFG.device == \"GPU\":\n",
    "    print(\"Num GPUs Available: \", len(tf.config.experimental.list_physical_devices('GPU')))\n",
    "    \n",
    "\n",
    "AUTO     = tf.data.experimental.AUTOTUNE\n",
    "REPLICAS = strategy.num_replicas_in_sync\n",
    "print(f'REPLICAS: {REPLICAS}')"
   ]
  },
  {
   "cell_type": "markdown",
   "id": "1746e98c",
   "metadata": {
    "papermill": {
     "duration": 0.018832,
     "end_time": "2021-09-27T19:10:58.066852",
     "exception": false,
     "start_time": "2021-09-27T19:10:58.048020",
     "status": "completed"
    },
    "tags": []
   },
   "source": [
    "# Base Path for Dataset"
   ]
  },
  {
   "cell_type": "code",
   "execution_count": 6,
   "id": "ceb2206b",
   "metadata": {
    "_kg_hide-input": true,
    "execution": {
     "iopub.execute_input": "2021-09-27T19:10:58.109175Z",
     "iopub.status.busy": "2021-09-27T19:10:58.108430Z",
     "iopub.status.idle": "2021-09-27T19:10:58.110908Z",
     "shell.execute_reply": "2021-09-27T19:10:58.110501Z",
     "shell.execute_reply.started": "2021-09-26T13:01:00.135041Z"
    },
    "papermill": {
     "duration": 0.024473,
     "end_time": "2021-09-27T19:10:58.111021",
     "exception": false,
     "start_time": "2021-09-27T19:10:58.086548",
     "status": "completed"
    },
    "tags": []
   },
   "outputs": [],
   "source": [
    "BASE_PATH = '/kaggle/input/petfinder-pawpularity-score'"
   ]
  },
  {
   "cell_type": "markdown",
   "id": "b6cdf02b",
   "metadata": {
    "papermill": {
     "duration": 0.019989,
     "end_time": "2021-09-27T19:10:58.151359",
     "exception": false,
     "start_time": "2021-09-27T19:10:58.131370",
     "status": "completed"
    },
    "tags": []
   },
   "source": [
    "# Meta Data"
   ]
  },
  {
   "cell_type": "code",
   "execution_count": 7,
   "id": "a0653b7b",
   "metadata": {
    "execution": {
     "iopub.execute_input": "2021-09-27T19:10:58.190882Z",
     "iopub.status.busy": "2021-09-27T19:10:58.190120Z",
     "iopub.status.idle": "2021-09-27T19:10:58.276716Z",
     "shell.execute_reply": "2021-09-27T19:10:58.276321Z",
     "shell.execute_reply.started": "2021-09-26T13:01:00.144138Z"
    },
    "papermill": {
     "duration": 0.107082,
     "end_time": "2021-09-27T19:10:58.276823",
     "exception": false,
     "start_time": "2021-09-27T19:10:58.169741",
     "status": "completed"
    },
    "tags": []
   },
   "outputs": [
    {
     "data": {
      "text/html": [
       "<div>\n",
       "<style scoped>\n",
       "    .dataframe tbody tr th:only-of-type {\n",
       "        vertical-align: middle;\n",
       "    }\n",
       "\n",
       "    .dataframe tbody tr th {\n",
       "        vertical-align: top;\n",
       "    }\n",
       "\n",
       "    .dataframe thead th {\n",
       "        text-align: right;\n",
       "    }\n",
       "</style>\n",
       "<table border=\"1\" class=\"dataframe\">\n",
       "  <thead>\n",
       "    <tr style=\"text-align: right;\">\n",
       "      <th></th>\n",
       "      <th>Id</th>\n",
       "      <th>Subject Focus</th>\n",
       "      <th>Eyes</th>\n",
       "      <th>Face</th>\n",
       "      <th>Near</th>\n",
       "      <th>Action</th>\n",
       "      <th>Accessory</th>\n",
       "      <th>Group</th>\n",
       "      <th>Collage</th>\n",
       "      <th>Human</th>\n",
       "      <th>Occlusion</th>\n",
       "      <th>Info</th>\n",
       "      <th>Blur</th>\n",
       "      <th>Pawpularity</th>\n",
       "      <th>image_path</th>\n",
       "    </tr>\n",
       "  </thead>\n",
       "  <tbody>\n",
       "    <tr>\n",
       "      <th>0</th>\n",
       "      <td>0007de18844b0dbbb5e1f607da0606e0</td>\n",
       "      <td>0</td>\n",
       "      <td>1</td>\n",
       "      <td>1</td>\n",
       "      <td>1</td>\n",
       "      <td>0</td>\n",
       "      <td>0</td>\n",
       "      <td>1</td>\n",
       "      <td>0</td>\n",
       "      <td>0</td>\n",
       "      <td>0</td>\n",
       "      <td>0</td>\n",
       "      <td>0</td>\n",
       "      <td>63</td>\n",
       "      <td>/kaggle/input/petfinder-pawpularity-score/trai...</td>\n",
       "    </tr>\n",
       "    <tr>\n",
       "      <th>1</th>\n",
       "      <td>0009c66b9439883ba2750fb825e1d7db</td>\n",
       "      <td>0</td>\n",
       "      <td>1</td>\n",
       "      <td>1</td>\n",
       "      <td>0</td>\n",
       "      <td>0</td>\n",
       "      <td>0</td>\n",
       "      <td>0</td>\n",
       "      <td>0</td>\n",
       "      <td>0</td>\n",
       "      <td>0</td>\n",
       "      <td>0</td>\n",
       "      <td>0</td>\n",
       "      <td>42</td>\n",
       "      <td>/kaggle/input/petfinder-pawpularity-score/trai...</td>\n",
       "    </tr>\n",
       "  </tbody>\n",
       "</table>\n",
       "</div>"
      ],
      "text/plain": [
       "                                 Id  Subject Focus  Eyes  Face  Near  Action  \\\n",
       "0  0007de18844b0dbbb5e1f607da0606e0              0     1     1     1       0   \n",
       "1  0009c66b9439883ba2750fb825e1d7db              0     1     1     0       0   \n",
       "\n",
       "   Accessory  Group  Collage  Human  Occlusion  Info  Blur  Pawpularity  \\\n",
       "0          0      1        0      0          0     0     0           63   \n",
       "1          0      0        0      0          0     0     0           42   \n",
       "\n",
       "                                          image_path  \n",
       "0  /kaggle/input/petfinder-pawpularity-score/trai...  \n",
       "1  /kaggle/input/petfinder-pawpularity-score/trai...  "
      ]
     },
     "metadata": {},
     "output_type": "display_data"
    },
    {
     "data": {
      "text/html": [
       "<div>\n",
       "<style scoped>\n",
       "    .dataframe tbody tr th:only-of-type {\n",
       "        vertical-align: middle;\n",
       "    }\n",
       "\n",
       "    .dataframe tbody tr th {\n",
       "        vertical-align: top;\n",
       "    }\n",
       "\n",
       "    .dataframe thead th {\n",
       "        text-align: right;\n",
       "    }\n",
       "</style>\n",
       "<table border=\"1\" class=\"dataframe\">\n",
       "  <thead>\n",
       "    <tr style=\"text-align: right;\">\n",
       "      <th></th>\n",
       "      <th>Id</th>\n",
       "      <th>Subject Focus</th>\n",
       "      <th>Eyes</th>\n",
       "      <th>Face</th>\n",
       "      <th>Near</th>\n",
       "      <th>Action</th>\n",
       "      <th>Accessory</th>\n",
       "      <th>Group</th>\n",
       "      <th>Collage</th>\n",
       "      <th>Human</th>\n",
       "      <th>Occlusion</th>\n",
       "      <th>Info</th>\n",
       "      <th>Blur</th>\n",
       "      <th>image_path</th>\n",
       "    </tr>\n",
       "  </thead>\n",
       "  <tbody>\n",
       "    <tr>\n",
       "      <th>0</th>\n",
       "      <td>4128bae22183829d2b5fea10effdb0c3</td>\n",
       "      <td>1</td>\n",
       "      <td>0</td>\n",
       "      <td>1</td>\n",
       "      <td>0</td>\n",
       "      <td>0</td>\n",
       "      <td>1</td>\n",
       "      <td>1</td>\n",
       "      <td>0</td>\n",
       "      <td>0</td>\n",
       "      <td>1</td>\n",
       "      <td>0</td>\n",
       "      <td>1</td>\n",
       "      <td>/kaggle/input/petfinder-pawpularity-score/test...</td>\n",
       "    </tr>\n",
       "    <tr>\n",
       "      <th>1</th>\n",
       "      <td>43a2262d7738e3d420d453815151079e</td>\n",
       "      <td>0</td>\n",
       "      <td>1</td>\n",
       "      <td>0</td>\n",
       "      <td>0</td>\n",
       "      <td>0</td>\n",
       "      <td>0</td>\n",
       "      <td>1</td>\n",
       "      <td>1</td>\n",
       "      <td>0</td>\n",
       "      <td>0</td>\n",
       "      <td>0</td>\n",
       "      <td>0</td>\n",
       "      <td>/kaggle/input/petfinder-pawpularity-score/test...</td>\n",
       "    </tr>\n",
       "  </tbody>\n",
       "</table>\n",
       "</div>"
      ],
      "text/plain": [
       "                                 Id  Subject Focus  Eyes  Face  Near  Action  \\\n",
       "0  4128bae22183829d2b5fea10effdb0c3              1     0     1     0       0   \n",
       "1  43a2262d7738e3d420d453815151079e              0     1     0     0       0   \n",
       "\n",
       "   Accessory  Group  Collage  Human  Occlusion  Info  Blur  \\\n",
       "0          1      1        0      0          1     0     1   \n",
       "1          0      1        1      0          0     0     0   \n",
       "\n",
       "                                          image_path  \n",
       "0  /kaggle/input/petfinder-pawpularity-score/test...  \n",
       "1  /kaggle/input/petfinder-pawpularity-score/test...  "
      ]
     },
     "metadata": {},
     "output_type": "display_data"
    }
   ],
   "source": [
    "# Train Data\n",
    "df = pd.read_csv('../input/petfinder-pawpularity-score/train.csv')\n",
    "df['image_path'] = BASE_PATH + '/train/' + df.Id + '.jpg'\n",
    "display(df.head(2))\n",
    "\n",
    "# Test Data\n",
    "test_df  = pd.read_csv('../input/petfinder-pawpularity-score/test.csv')\n",
    "test_df['image_path'] = BASE_PATH + '/test/' + test_df.Id + '.jpg'\n",
    "\n",
    "display(test_df.head(2))"
   ]
  },
  {
   "cell_type": "markdown",
   "id": "a28870e3",
   "metadata": {
    "papermill": {
     "duration": 0.019109,
     "end_time": "2021-09-27T19:10:58.315493",
     "exception": false,
     "start_time": "2021-09-27T19:10:58.296384",
     "status": "completed"
    },
    "tags": []
   },
   "source": [
    "## Train-Test Ditribution"
   ]
  },
  {
   "cell_type": "code",
   "execution_count": 8,
   "id": "1a1cfe1c",
   "metadata": {
    "execution": {
     "iopub.execute_input": "2021-09-27T19:10:58.358323Z",
     "iopub.status.busy": "2021-09-27T19:10:58.357525Z",
     "iopub.status.idle": "2021-09-27T19:10:58.361643Z",
     "shell.execute_reply": "2021-09-27T19:10:58.361231Z",
     "shell.execute_reply.started": "2021-09-26T13:01:00.225544Z"
    },
    "papermill": {
     "duration": 0.026831,
     "end_time": "2021-09-27T19:10:58.361741",
     "exception": false,
     "start_time": "2021-09-27T19:10:58.334910",
     "status": "completed"
    },
    "tags": []
   },
   "outputs": [
    {
     "name": "stdout",
     "output_type": "stream",
     "text": [
      "train_files: 9912\n",
      "test_files: 8\n"
     ]
    }
   ],
   "source": [
    "print('train_files:',df.shape[0])\n",
    "print('test_files:',test_df.shape[0])"
   ]
  },
  {
   "cell_type": "markdown",
   "id": "1c3c2866",
   "metadata": {
    "papermill": {
     "duration": 0.019757,
     "end_time": "2021-09-27T19:10:58.401480",
     "exception": false,
     "start_time": "2021-09-27T19:10:58.381723",
     "status": "completed"
    },
    "tags": []
   },
   "source": [
    "# Data Augmentation\n",
    "Used simple augmentations, some of them may hurt the model.\n",
    "* RandomFlip (Left-Right)\n",
    "* No Rotation\n",
    "* RandomBrightness\n",
    "* RndomContrast\n",
    "* Shear\n",
    "* Zoom\n",
    "* Coarsee Dropout/Cutout"
   ]
  },
  {
   "cell_type": "code",
   "execution_count": 9,
   "id": "adba5c1c",
   "metadata": {
    "_kg_hide-input": true,
    "execution": {
     "iopub.execute_input": "2021-09-27T19:10:58.478318Z",
     "iopub.status.busy": "2021-09-27T19:10:58.477467Z",
     "iopub.status.idle": "2021-09-27T19:10:58.503115Z",
     "shell.execute_reply": "2021-09-27T19:10:58.503618Z",
     "shell.execute_reply.started": "2021-09-26T13:01:00.23277Z"
    },
    "papermill": {
     "duration": 0.076707,
     "end_time": "2021-09-27T19:10:58.503775",
     "exception": false,
     "start_time": "2021-09-27T19:10:58.427068",
     "status": "completed"
    },
    "tags": []
   },
   "outputs": [],
   "source": [
    "def get_mat(shear, height_zoom, width_zoom, height_shift, width_shift):\n",
    "    # returns 3x3 transformmatrix which transforms indicies\n",
    "        \n",
    "    # CONVERT DEGREES TO RADIANS\n",
    "    #rotation = math.pi * rotation / 180.\n",
    "    shear    = math.pi * shear    / 180.\n",
    "\n",
    "    def get_3x3_mat(lst):\n",
    "        return tf.reshape(tf.concat([lst],axis=0), [3,3])\n",
    "    \n",
    "    # ROTATION MATRIX\n",
    "#     c1   = tf.math.cos(rotation)\n",
    "#     s1   = tf.math.sin(rotation)\n",
    "    one  = tf.constant([1],dtype='float32')\n",
    "    zero = tf.constant([0],dtype='float32')\n",
    "    \n",
    "#     rotation_matrix = get_3x3_mat([c1,   s1,   zero, \n",
    "#                                    -s1,  c1,   zero, \n",
    "#                                    zero, zero, one])    \n",
    "    # SHEAR MATRIX\n",
    "    c2 = tf.math.cos(shear)\n",
    "    s2 = tf.math.sin(shear)    \n",
    "    \n",
    "    shear_matrix = get_3x3_mat([one,  s2,   zero, \n",
    "                               zero, c2,   zero, \n",
    "                                zero, zero, one])        \n",
    "    # ZOOM MATRIX\n",
    "    zoom_matrix = get_3x3_mat([one/height_zoom, zero,           zero, \n",
    "                               zero,            one/width_zoom, zero, \n",
    "                               zero,            zero,           one])    \n",
    "    # SHIFT MATRIX\n",
    "    shift_matrix = get_3x3_mat([one,  zero, height_shift, \n",
    "                                zero, one,  width_shift, \n",
    "                                zero, zero, one])\n",
    "    \n",
    "\n",
    "    return  K.dot(shear_matrix,K.dot(zoom_matrix, shift_matrix)) #K.dot(K.dot(rotation_matrix, shear_matrix), K.dot(zoom_matrix, shift_matrix))                  \n",
    "\n",
    "def transform(image, DIM=CFG.img_size):#[rot,shr,h_zoom,w_zoom,h_shift,w_shift]):\n",
    "    if DIM[0]!=DIM[1]:\n",
    "        pad = (DIM[0]-DIM[1])//2\n",
    "        image = tf.pad(image, [[0, 0], [pad, pad+1],[0, 0]])\n",
    "        \n",
    "    NEW_DIM = DIM[0]\n",
    "    \n",
    "    rot = CFG.rot * tf.random.normal([1], dtype='float32')\n",
    "    shr = CFG.shr * tf.random.normal([1], dtype='float32') \n",
    "    h_zoom = 1.0 + tf.random.normal([1], dtype='float32') / CFG.hzoom\n",
    "    w_zoom = 1.0 + tf.random.normal([1], dtype='float32') / CFG.wzoom\n",
    "    h_shift = CFG.hshift * tf.random.normal([1], dtype='float32') \n",
    "    w_shift = CFG.wshift * tf.random.normal([1], dtype='float32') \n",
    "    \n",
    "    transformation_matrix=tf.linalg.inv(get_mat(shr,h_zoom,w_zoom,h_shift,w_shift))\n",
    "    \n",
    "    flat_tensor=tfa.image.transform_ops.matrices_to_flat_transforms(transformation_matrix)\n",
    "    \n",
    "    image=tfa.image.transform(image,flat_tensor, fill_mode=CFG.fill_mode)\n",
    "    \n",
    "    rotation = math.pi * rot / 180.\n",
    "    \n",
    "    image=tfa.image.rotate(image,-rotation, fill_mode=CFG.fill_mode)\n",
    "    \n",
    "    if DIM[0]!=DIM[1]:\n",
    "        image=tf.reshape(image, [NEW_DIM, NEW_DIM,3])\n",
    "        image = image[:, pad:DIM[1]+pad,:]\n",
    "    image = tf.reshape(image, [*DIM, 3])    \n",
    "    return image\n",
    "\n",
    "def dropout(image,DIM=CFG.img_size, PROBABILITY = 0.6, CT = 5, SZ = 0.1):\n",
    "    # input image - is one image of size [dim,dim,3] not a batch of [b,dim,dim,3]\n",
    "    # output - image with CT squares of side size SZ*DIM removed\n",
    "    \n",
    "    # DO DROPOUT WITH PROBABILITY DEFINED ABOVE\n",
    "    P = tf.cast( tf.random.uniform([],0,1)<PROBABILITY, tf.int32)\n",
    "    if (P==0)|(CT==0)|(SZ==0): \n",
    "        return image\n",
    "    \n",
    "    for k in range(CT):\n",
    "        # CHOOSE RANDOM LOCATION\n",
    "        x = tf.cast( tf.random.uniform([],0,DIM[1]),tf.int32)\n",
    "        y = tf.cast( tf.random.uniform([],0,DIM[0]),tf.int32)\n",
    "        # COMPUTE SQUARE \n",
    "        WIDTH = tf.cast( SZ*min(DIM),tf.int32) * P\n",
    "        ya = tf.math.maximum(0,y-WIDTH//2)\n",
    "        yb = tf.math.minimum(DIM[0],y+WIDTH//2)\n",
    "        xa = tf.math.maximum(0,x-WIDTH//2)\n",
    "        xb = tf.math.minimum(DIM[1],x+WIDTH//2)\n",
    "        # DROPOUT IMAGE\n",
    "        one = image[ya:yb,0:xa,:]\n",
    "        two = tf.zeros([yb-ya,xb-xa,3], dtype = image.dtype) \n",
    "        three = image[ya:yb,xb:DIM[1],:]\n",
    "        middle = tf.concat([one,two,three],axis=1)\n",
    "        image = tf.concat([image[0:ya,:,:],middle,image[yb:DIM[0],:,:]],axis=0)\n",
    "        image = tf.reshape(image,[*DIM,3])\n",
    "\n",
    "#     image = tf.reshape(image,[*DIM,3])\n",
    "    return image"
   ]
  },
  {
   "cell_type": "markdown",
   "id": "17d73a7a",
   "metadata": {
    "papermill": {
     "duration": 0.030206,
     "end_time": "2021-09-27T19:10:58.573821",
     "exception": false,
     "start_time": "2021-09-27T19:10:58.543615",
     "status": "completed"
    },
    "tags": []
   },
   "source": [
    "## Data Pipeline\n",
    "* Reads the raw file and then decodes it to tf.Tensor\n",
    "* Resizes the image in desired size\n",
    "* Chages the datatype to **float32**\n",
    "* Caches the Data for boosting up the speed.\n",
    "* Uses Augmentations to reduce overfitting and make model more robust.\n",
    "* Finally, splits the data into batches.\n"
   ]
  },
  {
   "cell_type": "code",
   "execution_count": 10,
   "id": "3dee63ec",
   "metadata": {
    "_kg_hide-input": true,
    "execution": {
     "iopub.execute_input": "2021-09-27T19:10:58.647200Z",
     "iopub.status.busy": "2021-09-27T19:10:58.646387Z",
     "iopub.status.idle": "2021-09-27T19:10:58.663432Z",
     "shell.execute_reply": "2021-09-27T19:10:58.664111Z",
     "shell.execute_reply.started": "2021-09-26T13:01:00.403181Z"
    },
    "papermill": {
     "duration": 0.05963,
     "end_time": "2021-09-27T19:10:58.664294",
     "exception": false,
     "start_time": "2021-09-27T19:10:58.604664",
     "status": "completed"
    },
    "tags": []
   },
   "outputs": [],
   "source": [
    "def build_decoder(with_labels=True, target_size=CFG.img_size, ext='jpg'):\n",
    "    def decode(path):\n",
    "        file_bytes = tf.io.read_file(path)\n",
    "        if ext == 'png':\n",
    "            img = tf.image.decode_png(file_bytes, channels=3)\n",
    "        elif ext in ['jpg', 'jpeg']:\n",
    "            img = tf.image.decode_jpeg(file_bytes, channels=3)\n",
    "        else:\n",
    "            raise ValueError(\"Image extension not supported\")\n",
    "\n",
    "        img = tf.image.resize(img, target_size)\n",
    "        img = tf.cast(img, tf.float32) / 255.0\n",
    "        img = tf.reshape(img, [*target_size, 3])\n",
    "\n",
    "        return img\n",
    "    \n",
    "    def decode_with_labels(path, label):\n",
    "        return decode(path), tf.cast(label, tf.float32)\n",
    "    \n",
    "    return decode_with_labels if with_labels else decode\n",
    "\n",
    "\n",
    "def build_augmenter(with_labels=True, dim=CFG.img_size):\n",
    "    def augment(img, dim=dim):\n",
    "        img = transform(img,DIM=dim) if CFG.transform else img\n",
    "        img = tf.image.random_flip_left_right(img) if CFG.hflip else img\n",
    "        img = tf.image.random_flip_up_down(img) if CFG.vflip else img\n",
    "        img = tf.image.random_hue(img, CFG.hue)\n",
    "        img = tf.image.random_saturation(img, CFG.sat[0], CFG.sat[1])\n",
    "        img = tf.image.random_contrast(img, CFG.cont[0], CFG.cont[1])\n",
    "        img = tf.image.random_brightness(img, CFG.bri)\n",
    "        img = dropout(img, DIM=dim, PROBABILITY = CFG.drop_prob, CT = CFG.drop_cnt, SZ = CFG.drop_size)\n",
    "        img = tf.clip_by_value(img, 0, 1)  if CFG.clip else img         \n",
    "        img = tf.reshape(img, [*dim, 3])\n",
    "        return img\n",
    "    \n",
    "    def augment_with_labels(img, label):    \n",
    "        return augment(img), label\n",
    "    \n",
    "    return augment_with_labels if with_labels else augment\n",
    "\n",
    "\n",
    "def build_dataset(paths, labels=None, batch_size=32, cache=True,\n",
    "                  decode_fn=None, augment_fn=None,\n",
    "                  augment=True, repeat=True, shuffle=1024, \n",
    "                  cache_dir=\"\", drop_remainder=False):\n",
    "    if cache_dir != \"\" and cache is True:\n",
    "        os.makedirs(cache_dir, exist_ok=True)\n",
    "    \n",
    "    if decode_fn is None:\n",
    "        decode_fn = build_decoder(labels is not None)\n",
    "    \n",
    "    if augment_fn is None:\n",
    "        augment_fn = build_augmenter(labels is not None)\n",
    "    \n",
    "    AUTO = tf.data.experimental.AUTOTUNE\n",
    "    slices = paths if labels is None else (paths, labels)\n",
    "    \n",
    "    ds = tf.data.Dataset.from_tensor_slices(slices)\n",
    "    ds = ds.map(decode_fn, num_parallel_calls=AUTO)\n",
    "    ds = ds.cache(cache_dir) if cache else ds\n",
    "    ds = ds.repeat() if repeat else ds\n",
    "    if shuffle: \n",
    "        ds = ds.shuffle(shuffle, seed=CFG.seed)\n",
    "        opt = tf.data.Options()\n",
    "        opt.experimental_deterministic = False\n",
    "        ds = ds.with_options(opt)\n",
    "    ds = ds.map(augment_fn, num_parallel_calls=AUTO) if augment else ds\n",
    "    ds = ds.batch(batch_size, drop_remainder=drop_remainder)\n",
    "    ds = ds.prefetch(AUTO)\n",
    "    return ds"
   ]
  },
  {
   "cell_type": "markdown",
   "id": "fe7c29ae",
   "metadata": {
    "papermill": {
     "duration": 0.032936,
     "end_time": "2021-09-27T19:10:58.729680",
     "exception": false,
     "start_time": "2021-09-27T19:10:58.696744",
     "status": "completed"
    },
    "tags": []
   },
   "source": [
    "# Model Configs"
   ]
  },
  {
   "cell_type": "code",
   "execution_count": 11,
   "id": "ad1629ea",
   "metadata": {
    "execution": {
     "iopub.execute_input": "2021-09-27T19:10:58.809464Z",
     "iopub.status.busy": "2021-09-27T19:10:58.808762Z",
     "iopub.status.idle": "2021-09-27T19:10:58.818887Z",
     "shell.execute_reply": "2021-09-27T19:10:58.819456Z",
     "shell.execute_reply.started": "2021-09-26T13:01:00.423791Z"
    },
    "papermill": {
     "duration": 0.054783,
     "end_time": "2021-09-27T19:10:58.819630",
     "exception": false,
     "start_time": "2021-09-27T19:10:58.764847",
     "status": "completed"
    },
    "tags": []
   },
   "outputs": [],
   "source": [
    "BASE_DIRS = [\n",
    "    (512, '/kaggle/input/tf-petfinder-image-tpu-train'),\n",
    "]\n",
    "\n",
    "MODEL_CONFIGS = []\n",
    "for dim, base_dir in  BASE_DIRS:\n",
    "    paths = sorted(glob(os.path.join(base_dir, '*h5')))\n",
    "    if len(paths)==0:\n",
    "        print('no model found for :',base_dir)\n",
    "    MODEL_CONFIGS.append([dim, paths])"
   ]
  },
  {
   "cell_type": "markdown",
   "id": "ce03932a",
   "metadata": {
    "papermill": {
     "duration": 0.030186,
     "end_time": "2021-09-27T19:10:58.880026",
     "exception": false,
     "start_time": "2021-09-27T19:10:58.849840",
     "status": "completed"
    },
    "tags": []
   },
   "source": [
    "# Inference"
   ]
  },
  {
   "cell_type": "code",
   "execution_count": 12,
   "id": "7f92b0e5",
   "metadata": {
    "execution": {
     "iopub.execute_input": "2021-09-27T19:10:58.957115Z",
     "iopub.status.busy": "2021-09-27T19:10:58.956322Z",
     "iopub.status.idle": "2021-09-27T19:11:39.378496Z",
     "shell.execute_reply": "2021-09-27T19:11:39.377992Z",
     "shell.execute_reply.started": "2021-09-26T13:01:00.438773Z"
    },
    "papermill": {
     "duration": 40.466852,
     "end_time": "2021-09-27T19:11:39.378612",
     "exception": false,
     "start_time": "2021-09-27T19:10:58.911760",
     "status": "completed"
    },
    "tags": []
   },
   "outputs": [
    {
     "name": "stdout",
     "output_type": "stream",
     "text": [
      "===================================\n",
      "### Inference\n",
      "===================================\n"
     ]
    },
    {
     "data": {
      "application/vnd.jupyter.widget-view+json": {
       "model_id": "85128fc507594300bdce6526bdfa3035",
       "version_major": 2,
       "version_minor": 0
      },
      "text/plain": [
       "  0%|          | 0/1 [00:00<?, ?it/s]"
      ]
     },
     "metadata": {},
     "output_type": "display_data"
    },
    {
     "name": "stderr",
     "output_type": "stream",
     "text": [
      "2021-09-27 19:10:59.008847: I tensorflow/core/platform/cpu_feature_guard.cc:142] This TensorFlow binary is optimized with oneAPI Deep Neural Network Library (oneDNN) to use the following CPU instructions in performance-critical operations:  AVX2 AVX512F FMA\n",
      "To enable them in other operations, rebuild TensorFlow with the appropriate compiler flags.\n",
      "2021-09-27 19:10:59.009092: I tensorflow/compiler/jit/xla_gpu_device.cc:99] Not creating XLA devices, tf_xla_enable_xla_devices not set\n",
      "2021-09-27 19:10:59.009406: I tensorflow/stream_executor/cuda/cuda_gpu_executor.cc:941] successful NUMA node read from SysFS had negative value (-1), but there must be at least one NUMA node, so returning NUMA node zero\n",
      "2021-09-27 19:10:59.010375: I tensorflow/core/common_runtime/gpu/gpu_device.cc:1720] Found device 0 with properties: \n",
      "pciBusID: 0000:00:04.0 name: Tesla P100-PCIE-16GB computeCapability: 6.0\n",
      "coreClock: 1.3285GHz coreCount: 56 deviceMemorySize: 15.90GiB deviceMemoryBandwidth: 681.88GiB/s\n",
      "2021-09-27 19:10:59.010497: I tensorflow/stream_executor/platform/default/dso_loader.cc:49] Successfully opened dynamic library libcudart.so.11.0\n",
      "2021-09-27 19:10:59.010567: I tensorflow/stream_executor/platform/default/dso_loader.cc:49] Successfully opened dynamic library libcublas.so.11\n",
      "2021-09-27 19:10:59.010596: I tensorflow/stream_executor/platform/default/dso_loader.cc:49] Successfully opened dynamic library libcublasLt.so.11\n",
      "2021-09-27 19:10:59.010622: I tensorflow/stream_executor/platform/default/dso_loader.cc:49] Successfully opened dynamic library libcufft.so.10\n",
      "2021-09-27 19:10:59.010649: I tensorflow/stream_executor/platform/default/dso_loader.cc:49] Successfully opened dynamic library libcurand.so.10\n",
      "2021-09-27 19:10:59.010675: I tensorflow/stream_executor/platform/default/dso_loader.cc:49] Successfully opened dynamic library libcusolver.so.10\n",
      "2021-09-27 19:10:59.010701: I tensorflow/stream_executor/platform/default/dso_loader.cc:49] Successfully opened dynamic library libcusparse.so.11\n",
      "2021-09-27 19:10:59.010728: I tensorflow/stream_executor/platform/default/dso_loader.cc:49] Successfully opened dynamic library libcudnn.so.8\n",
      "2021-09-27 19:10:59.010877: I tensorflow/stream_executor/cuda/cuda_gpu_executor.cc:941] successful NUMA node read from SysFS had negative value (-1), but there must be at least one NUMA node, so returning NUMA node zero\n",
      "2021-09-27 19:10:59.011815: I tensorflow/stream_executor/cuda/cuda_gpu_executor.cc:941] successful NUMA node read from SysFS had negative value (-1), but there must be at least one NUMA node, so returning NUMA node zero\n",
      "2021-09-27 19:10:59.012654: I tensorflow/core/common_runtime/gpu/gpu_device.cc:1862] Adding visible gpu devices: 0\n",
      "2021-09-27 19:10:59.014112: I tensorflow/stream_executor/platform/default/dso_loader.cc:49] Successfully opened dynamic library libcudart.so.11.0\n",
      "2021-09-27 19:11:00.674146: I tensorflow/core/common_runtime/gpu/gpu_device.cc:1261] Device interconnect StreamExecutor with strength 1 edge matrix:\n",
      "2021-09-27 19:11:00.674192: I tensorflow/core/common_runtime/gpu/gpu_device.cc:1267]      0 \n",
      "2021-09-27 19:11:00.674201: I tensorflow/core/common_runtime/gpu/gpu_device.cc:1280] 0:   N \n",
      "2021-09-27 19:11:00.676589: I tensorflow/stream_executor/cuda/cuda_gpu_executor.cc:941] successful NUMA node read from SysFS had negative value (-1), but there must be at least one NUMA node, so returning NUMA node zero\n",
      "2021-09-27 19:11:00.677354: I tensorflow/stream_executor/cuda/cuda_gpu_executor.cc:941] successful NUMA node read from SysFS had negative value (-1), but there must be at least one NUMA node, so returning NUMA node zero\n",
      "2021-09-27 19:11:00.677996: I tensorflow/stream_executor/cuda/cuda_gpu_executor.cc:941] successful NUMA node read from SysFS had negative value (-1), but there must be at least one NUMA node, so returning NUMA node zero\n",
      "2021-09-27 19:11:00.678584: I tensorflow/core/common_runtime/gpu/gpu_device.cc:1406] Created TensorFlow device (/job:localhost/replica:0/task:0/device:GPU:0 with 14957 MB memory) -> physical GPU (device: 0, name: Tesla P100-PCIE-16GB, pci bus id: 0000:00:04.0, compute capability: 6.0)\n"
     ]
    },
    {
     "name": "stdout",
     "output_type": "stream",
     "text": [
      "Model: /kaggle/input/tf-petfinder-image-tpu-train/fold-0.h5\n",
      "Loading Model...\n",
      "Predicting...\n"
     ]
    },
    {
     "name": "stderr",
     "output_type": "stream",
     "text": [
      "2021-09-27 19:11:05.609607: I tensorflow/compiler/mlir/mlir_graph_optimization_pass.cc:116] None of the MLIR optimization passes are enabled (registered 2)\n",
      "2021-09-27 19:11:05.612798: I tensorflow/core/platform/profile_utils/cpu_utils.cc:112] CPU Frequency: 2000185000 Hz\n",
      "2021-09-27 19:11:07.201710: I tensorflow/stream_executor/platform/default/dso_loader.cc:49] Successfully opened dynamic library libcublas.so.11\n",
      "2021-09-27 19:11:07.993172: I tensorflow/stream_executor/platform/default/dso_loader.cc:49] Successfully opened dynamic library libcublasLt.so.11\n",
      "2021-09-27 19:11:08.003709: I tensorflow/stream_executor/platform/default/dso_loader.cc:49] Successfully opened dynamic library libcudnn.so.8\n"
     ]
    },
    {
     "name": "stdout",
     "output_type": "stream",
     "text": [
      "40/40 [==============================] - 9s 25ms/step\n",
      "\n",
      "Model: /kaggle/input/tf-petfinder-image-tpu-train/fold-1.h5\n",
      "Loading Model...\n",
      "Predicting...\n",
      "40/40 [==============================] - 3s 23ms/step\n",
      "\n",
      "Model: /kaggle/input/tf-petfinder-image-tpu-train/fold-2.h5\n",
      "Loading Model...\n",
      "Predicting...\n",
      "40/40 [==============================] - 2s 23ms/step\n",
      "\n",
      "Model: /kaggle/input/tf-petfinder-image-tpu-train/fold-3.h5\n",
      "Loading Model...\n",
      "Predicting...\n",
      "40/40 [==============================] - 3s 26ms/step\n",
      "\n",
      "Model: /kaggle/input/tf-petfinder-image-tpu-train/fold-4.h5\n",
      "Loading Model...\n",
      "Predicting...\n",
      "40/40 [==============================] - 3s 23ms/step\n",
      "\n"
     ]
    }
   ],
   "source": [
    "print('='*35)\n",
    "print('### Inference')\n",
    "print('='*35)\n",
    "preds=[]\n",
    "for dim, model_paths in tqdm(MODEL_CONFIGS):\n",
    "    test_paths = test_df.image_path.tolist()\n",
    "    if len(test_paths)<=8:\n",
    "        CFG.batch_size = 1\n",
    "    elif dim>=768:\n",
    "        CFG.batch_size = REPLICAS * 24\n",
    "    elif dim>=640:\n",
    "        CFG.batch_size = REPLICAS * 32\n",
    "    else:\n",
    "        CFG.batch_size = REPLICAS * 64\n",
    "    dtest = build_dataset(\n",
    "        test_paths, \n",
    "        batch_size=CFG.batch_size, repeat=True, \n",
    "        shuffle=False, augment=True if CFG.tta>1 else False, cache=False,\n",
    "        decode_fn=build_decoder(with_labels=False, target_size=[dim,dim]),\n",
    "        augment_fn=build_augmenter(with_labels=False, dim=[dim, dim])\n",
    "    )\n",
    "    for model_path in model_paths:\n",
    "        print(f'Model: {model_path}')\n",
    "        with strategy.scope():\n",
    "            print('Loading Model...')\n",
    "            model = tf.keras.models.load_model(model_path, compile=False)\n",
    "        print('Predicting...');\n",
    "        pred = model.predict(dtest, steps = CFG.tta*len(test_paths)/CFG.batch_size, verbose=1)\n",
    "        pred = pred[:CFG.tta*len(test_paths),:]\n",
    "        pred = np.mean(pred.reshape(CFG.tta, len(test_paths), -1), axis=0)\n",
    "        preds.append(pred)\n",
    "        print()\n",
    "preds = np.mean(preds, axis=0)"
   ]
  },
  {
   "cell_type": "markdown",
   "id": "37706065",
   "metadata": {
    "papermill": {
     "duration": 0.044513,
     "end_time": "2021-09-27T19:11:39.469040",
     "exception": false,
     "start_time": "2021-09-27T19:11:39.424527",
     "status": "completed"
    },
    "tags": []
   },
   "source": [
    "# Submission"
   ]
  },
  {
   "cell_type": "code",
   "execution_count": 13,
   "id": "3c7c5c76",
   "metadata": {
    "execution": {
     "iopub.execute_input": "2021-09-27T19:11:39.565995Z",
     "iopub.status.busy": "2021-09-27T19:11:39.565379Z",
     "iopub.status.idle": "2021-09-27T19:11:39.593858Z",
     "shell.execute_reply": "2021-09-27T19:11:39.593394Z",
     "shell.execute_reply.started": "2021-09-26T13:01:24.648489Z"
    },
    "papermill": {
     "duration": 0.079519,
     "end_time": "2021-09-27T19:11:39.593973",
     "exception": false,
     "start_time": "2021-09-27T19:11:39.514454",
     "status": "completed"
    },
    "tags": []
   },
   "outputs": [
    {
     "data": {
      "text/html": [
       "<div>\n",
       "<style scoped>\n",
       "    .dataframe tbody tr th:only-of-type {\n",
       "        vertical-align: middle;\n",
       "    }\n",
       "\n",
       "    .dataframe tbody tr th {\n",
       "        vertical-align: top;\n",
       "    }\n",
       "\n",
       "    .dataframe thead th {\n",
       "        text-align: right;\n",
       "    }\n",
       "</style>\n",
       "<table border=\"1\" class=\"dataframe\">\n",
       "  <thead>\n",
       "    <tr style=\"text-align: right;\">\n",
       "      <th></th>\n",
       "      <th>Id</th>\n",
       "      <th>Pawpularity</th>\n",
       "    </tr>\n",
       "  </thead>\n",
       "  <tbody>\n",
       "    <tr>\n",
       "      <th>0</th>\n",
       "      <td>4128bae22183829d2b5fea10effdb0c3</td>\n",
       "      <td>0.071107</td>\n",
       "    </tr>\n",
       "    <tr>\n",
       "      <th>1</th>\n",
       "      <td>43a2262d7738e3d420d453815151079e</td>\n",
       "      <td>0.075045</td>\n",
       "    </tr>\n",
       "  </tbody>\n",
       "</table>\n",
       "</div>"
      ],
      "text/plain": [
       "                                 Id  Pawpularity\n",
       "0  4128bae22183829d2b5fea10effdb0c3     0.071107\n",
       "1  43a2262d7738e3d420d453815151079e     0.075045"
      ]
     },
     "execution_count": 13,
     "metadata": {},
     "output_type": "execute_result"
    }
   ],
   "source": [
    "pred_df = pd.DataFrame({'Id':test_df.Id,\n",
    "                        'Pawpularity':preds.reshape(-1)})\n",
    "sub_df = pd.read_csv('/kaggle/input/petfinder-pawpularity-score/sample_submission.csv')\n",
    "del sub_df['Pawpularity']\n",
    "sub_df = sub_df.merge(pred_df, on='Id', how='left')\n",
    "sub_df.to_csv('submission.csv',index=False)\n",
    "sub_df.head(2)"
   ]
  }
 ],
 "metadata": {
  "kernelspec": {
   "display_name": "Python 3",
   "language": "python",
   "name": "python3"
  },
  "language_info": {
   "codemirror_mode": {
    "name": "ipython",
    "version": 3
   },
   "file_extension": ".py",
   "mimetype": "text/x-python",
   "name": "python",
   "nbconvert_exporter": "python",
   "pygments_lexer": "ipython3",
   "version": "3.7.10"
  },
  "papermill": {
   "default_parameters": {},
   "duration": 86.588403,
   "end_time": "2021-09-27T19:11:42.636470",
   "environment_variables": {},
   "exception": null,
   "input_path": "__notebook__.ipynb",
   "output_path": "__notebook__.ipynb",
   "parameters": {},
   "start_time": "2021-09-27T19:10:16.048067",
   "version": "2.3.3"
  },
  "widgets": {
   "application/vnd.jupyter.widget-state+json": {
    "state": {
     "08d12e1a83254335b4d46b40c1a1961a": {
      "model_module": "@jupyter-widgets/controls",
      "model_module_version": "1.5.0",
      "model_name": "ProgressStyleModel",
      "state": {
       "_model_module": "@jupyter-widgets/controls",
       "_model_module_version": "1.5.0",
       "_model_name": "ProgressStyleModel",
       "_view_count": null,
       "_view_module": "@jupyter-widgets/base",
       "_view_module_version": "1.2.0",
       "_view_name": "StyleView",
       "bar_color": null,
       "description_width": ""
      }
     },
     "2d9e18d37a674919b62c3d62d650b2cd": {
      "model_module": "@jupyter-widgets/base",
      "model_module_version": "1.2.0",
      "model_name": "LayoutModel",
      "state": {
       "_model_module": "@jupyter-widgets/base",
       "_model_module_version": "1.2.0",
       "_model_name": "LayoutModel",
       "_view_count": null,
       "_view_module": "@jupyter-widgets/base",
       "_view_module_version": "1.2.0",
       "_view_name": "LayoutView",
       "align_content": null,
       "align_items": null,
       "align_self": null,
       "border": null,
       "bottom": null,
       "display": null,
       "flex": null,
       "flex_flow": null,
       "grid_area": null,
       "grid_auto_columns": null,
       "grid_auto_flow": null,
       "grid_auto_rows": null,
       "grid_column": null,
       "grid_gap": null,
       "grid_row": null,
       "grid_template_areas": null,
       "grid_template_columns": null,
       "grid_template_rows": null,
       "height": null,
       "justify_content": null,
       "justify_items": null,
       "left": null,
       "margin": null,
       "max_height": null,
       "max_width": null,
       "min_height": null,
       "min_width": null,
       "object_fit": null,
       "object_position": null,
       "order": null,
       "overflow": null,
       "overflow_x": null,
       "overflow_y": null,
       "padding": null,
       "right": null,
       "top": null,
       "visibility": null,
       "width": null
      }
     },
     "407d9a1d2a2241bea200a941b65bd998": {
      "model_module": "@jupyter-widgets/base",
      "model_module_version": "1.2.0",
      "model_name": "LayoutModel",
      "state": {
       "_model_module": "@jupyter-widgets/base",
       "_model_module_version": "1.2.0",
       "_model_name": "LayoutModel",
       "_view_count": null,
       "_view_module": "@jupyter-widgets/base",
       "_view_module_version": "1.2.0",
       "_view_name": "LayoutView",
       "align_content": null,
       "align_items": null,
       "align_self": null,
       "border": null,
       "bottom": null,
       "display": null,
       "flex": null,
       "flex_flow": null,
       "grid_area": null,
       "grid_auto_columns": null,
       "grid_auto_flow": null,
       "grid_auto_rows": null,
       "grid_column": null,
       "grid_gap": null,
       "grid_row": null,
       "grid_template_areas": null,
       "grid_template_columns": null,
       "grid_template_rows": null,
       "height": null,
       "justify_content": null,
       "justify_items": null,
       "left": null,
       "margin": null,
       "max_height": null,
       "max_width": null,
       "min_height": null,
       "min_width": null,
       "object_fit": null,
       "object_position": null,
       "order": null,
       "overflow": null,
       "overflow_x": null,
       "overflow_y": null,
       "padding": null,
       "right": null,
       "top": null,
       "visibility": null,
       "width": null
      }
     },
     "6fd1ae05c23944128dc1a240bd3f71fd": {
      "model_module": "@jupyter-widgets/base",
      "model_module_version": "1.2.0",
      "model_name": "LayoutModel",
      "state": {
       "_model_module": "@jupyter-widgets/base",
       "_model_module_version": "1.2.0",
       "_model_name": "LayoutModel",
       "_view_count": null,
       "_view_module": "@jupyter-widgets/base",
       "_view_module_version": "1.2.0",
       "_view_name": "LayoutView",
       "align_content": null,
       "align_items": null,
       "align_self": null,
       "border": null,
       "bottom": null,
       "display": null,
       "flex": null,
       "flex_flow": null,
       "grid_area": null,
       "grid_auto_columns": null,
       "grid_auto_flow": null,
       "grid_auto_rows": null,
       "grid_column": null,
       "grid_gap": null,
       "grid_row": null,
       "grid_template_areas": null,
       "grid_template_columns": null,
       "grid_template_rows": null,
       "height": null,
       "justify_content": null,
       "justify_items": null,
       "left": null,
       "margin": null,
       "max_height": null,
       "max_width": null,
       "min_height": null,
       "min_width": null,
       "object_fit": null,
       "object_position": null,
       "order": null,
       "overflow": null,
       "overflow_x": null,
       "overflow_y": null,
       "padding": null,
       "right": null,
       "top": null,
       "visibility": null,
       "width": null
      }
     },
     "85128fc507594300bdce6526bdfa3035": {
      "model_module": "@jupyter-widgets/controls",
      "model_module_version": "1.5.0",
      "model_name": "HBoxModel",
      "state": {
       "_dom_classes": [],
       "_model_module": "@jupyter-widgets/controls",
       "_model_module_version": "1.5.0",
       "_model_name": "HBoxModel",
       "_view_count": null,
       "_view_module": "@jupyter-widgets/controls",
       "_view_module_version": "1.5.0",
       "_view_name": "HBoxView",
       "box_style": "",
       "children": [
        "IPY_MODEL_bf7595efbf2143a3a92447f2c392fb3b",
        "IPY_MODEL_95813f4ef2bb42c7b22dccc4beafd900",
        "IPY_MODEL_fe53b256d07f403aa4834d3f9f26dacc"
       ],
       "layout": "IPY_MODEL_6fd1ae05c23944128dc1a240bd3f71fd"
      }
     },
     "94b43183bb0b4bc99ea2698b3204478c": {
      "model_module": "@jupyter-widgets/controls",
      "model_module_version": "1.5.0",
      "model_name": "DescriptionStyleModel",
      "state": {
       "_model_module": "@jupyter-widgets/controls",
       "_model_module_version": "1.5.0",
       "_model_name": "DescriptionStyleModel",
       "_view_count": null,
       "_view_module": "@jupyter-widgets/base",
       "_view_module_version": "1.2.0",
       "_view_name": "StyleView",
       "description_width": ""
      }
     },
     "95813f4ef2bb42c7b22dccc4beafd900": {
      "model_module": "@jupyter-widgets/controls",
      "model_module_version": "1.5.0",
      "model_name": "FloatProgressModel",
      "state": {
       "_dom_classes": [],
       "_model_module": "@jupyter-widgets/controls",
       "_model_module_version": "1.5.0",
       "_model_name": "FloatProgressModel",
       "_view_count": null,
       "_view_module": "@jupyter-widgets/controls",
       "_view_module_version": "1.5.0",
       "_view_name": "ProgressView",
       "bar_style": "success",
       "description": "",
       "description_tooltip": null,
       "layout": "IPY_MODEL_407d9a1d2a2241bea200a941b65bd998",
       "max": 1.0,
       "min": 0.0,
       "orientation": "horizontal",
       "style": "IPY_MODEL_08d12e1a83254335b4d46b40c1a1961a",
       "value": 1.0
      }
     },
     "bf7595efbf2143a3a92447f2c392fb3b": {
      "model_module": "@jupyter-widgets/controls",
      "model_module_version": "1.5.0",
      "model_name": "HTMLModel",
      "state": {
       "_dom_classes": [],
       "_model_module": "@jupyter-widgets/controls",
       "_model_module_version": "1.5.0",
       "_model_name": "HTMLModel",
       "_view_count": null,
       "_view_module": "@jupyter-widgets/controls",
       "_view_module_version": "1.5.0",
       "_view_name": "HTMLView",
       "description": "",
       "description_tooltip": null,
       "layout": "IPY_MODEL_2d9e18d37a674919b62c3d62d650b2cd",
       "placeholder": "​",
       "style": "IPY_MODEL_e6fd5afc9ccf49448ff6c0bc24840b1f",
       "value": "100%"
      }
     },
     "d7fbfcad685344cd87337f2de994435c": {
      "model_module": "@jupyter-widgets/base",
      "model_module_version": "1.2.0",
      "model_name": "LayoutModel",
      "state": {
       "_model_module": "@jupyter-widgets/base",
       "_model_module_version": "1.2.0",
       "_model_name": "LayoutModel",
       "_view_count": null,
       "_view_module": "@jupyter-widgets/base",
       "_view_module_version": "1.2.0",
       "_view_name": "LayoutView",
       "align_content": null,
       "align_items": null,
       "align_self": null,
       "border": null,
       "bottom": null,
       "display": null,
       "flex": null,
       "flex_flow": null,
       "grid_area": null,
       "grid_auto_columns": null,
       "grid_auto_flow": null,
       "grid_auto_rows": null,
       "grid_column": null,
       "grid_gap": null,
       "grid_row": null,
       "grid_template_areas": null,
       "grid_template_columns": null,
       "grid_template_rows": null,
       "height": null,
       "justify_content": null,
       "justify_items": null,
       "left": null,
       "margin": null,
       "max_height": null,
       "max_width": null,
       "min_height": null,
       "min_width": null,
       "object_fit": null,
       "object_position": null,
       "order": null,
       "overflow": null,
       "overflow_x": null,
       "overflow_y": null,
       "padding": null,
       "right": null,
       "top": null,
       "visibility": null,
       "width": null
      }
     },
     "e6fd5afc9ccf49448ff6c0bc24840b1f": {
      "model_module": "@jupyter-widgets/controls",
      "model_module_version": "1.5.0",
      "model_name": "DescriptionStyleModel",
      "state": {
       "_model_module": "@jupyter-widgets/controls",
       "_model_module_version": "1.5.0",
       "_model_name": "DescriptionStyleModel",
       "_view_count": null,
       "_view_module": "@jupyter-widgets/base",
       "_view_module_version": "1.2.0",
       "_view_name": "StyleView",
       "description_width": ""
      }
     },
     "fe53b256d07f403aa4834d3f9f26dacc": {
      "model_module": "@jupyter-widgets/controls",
      "model_module_version": "1.5.0",
      "model_name": "HTMLModel",
      "state": {
       "_dom_classes": [],
       "_model_module": "@jupyter-widgets/controls",
       "_model_module_version": "1.5.0",
       "_model_name": "HTMLModel",
       "_view_count": null,
       "_view_module": "@jupyter-widgets/controls",
       "_view_module_version": "1.5.0",
       "_view_name": "HTMLView",
       "description": "",
       "description_tooltip": null,
       "layout": "IPY_MODEL_d7fbfcad685344cd87337f2de994435c",
       "placeholder": "​",
       "style": "IPY_MODEL_94b43183bb0b4bc99ea2698b3204478c",
       "value": " 1/1 [00:40&lt;00:00, 40.40s/it]"
      }
     }
    },
    "version_major": 2,
    "version_minor": 0
   }
  }
 },
 "nbformat": 4,
 "nbformat_minor": 5
}
