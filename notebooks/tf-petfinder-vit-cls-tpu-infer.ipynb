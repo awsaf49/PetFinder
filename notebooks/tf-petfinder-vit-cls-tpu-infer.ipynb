{
 "cells": [
  {
   "cell_type": "markdown",
   "id": "479865f7",
   "metadata": {
    "papermill": {
     "duration": 0.01908,
     "end_time": "2021-10-02T10:04:20.249867",
     "exception": false,
     "start_time": "2021-10-02T10:04:20.230787",
     "status": "completed"
    },
    "tags": []
   },
   "source": [
    "# [PetFinder.my - Pawpularity Contest](https://www.kaggle.com/c/petfinder-pawpularity-score)\n",
    "> Predict the popularity of shelter pet photos\n",
    "\n",
    "![](https://storage.googleapis.com/kaggle-competitions/kaggle/25383/logos/header.png)"
   ]
  },
  {
   "cell_type": "markdown",
   "id": "1c57607c",
   "metadata": {
    "papermill": {
     "duration": 0.017163,
     "end_time": "2021-10-02T10:04:20.286151",
     "exception": false,
     "start_time": "2021-10-02T10:04:20.268988",
     "status": "completed"
    },
    "tags": []
   },
   "source": [
    "# Idea:\n",
    "* Use **Classification** instead of **Regression**.\n",
    "    * Normalize `Pawpularity` from `[0,100]` range to `[0,1]`.\n",
    "    * Use `BinaryCrossentropy` loss intead of `RootMeanSquaredError`\n",
    "    * Calculate competition metric after **denormalizing** the prediction\n",
    "* Use **Transformer** instead of **CNN**\n",
    "* Use only **Image** Feature.\n"
   ]
  },
  {
   "cell_type": "markdown",
   "id": "646191d3",
   "metadata": {
    "papermill": {
     "duration": 0.016982,
     "end_time": "2021-10-02T10:04:20.320435",
     "exception": false,
     "start_time": "2021-10-02T10:04:20.303453",
     "status": "completed"
    },
    "tags": []
   },
   "source": [
    "## Notebook:\n",
    "* CNN + Regression:\n",
    "    * train: [[TF] PetFinder: Image [TPU][Train] 🐶](https://www.kaggle.com/awsaf49/tf-petfinder-image-tpu-train)\n",
    "    * infer: [[TF] PetFinder: Image [TPU][Infer] 🐶](https://www.kaggle.com/awsaf49/tf-petfinder-image-tpu-infer)\n",
    "* Transformer + Classification:\n",
    "    * train: [[TF] PetFinder: ViT+Cls [TPU][Train] 😺](https://www.kaggle.com/awsaf49/tf-petfinder-vit-cls-tpu-train/)"
   ]
  },
  {
   "cell_type": "markdown",
   "id": "aebf824d",
   "metadata": {
    "papermill": {
     "duration": 0.017596,
     "end_time": "2021-10-02T10:04:20.355281",
     "exception": false,
     "start_time": "2021-10-02T10:04:20.337685",
     "status": "completed"
    },
    "tags": []
   },
   "source": [
    "# Content:\n",
    "* Install Libraries.\n",
    "* Import Libraries.\n",
    "* Libraries Version Check\n",
    "* Configuration.\n",
    "* DEVICE Configs.\n",
    "* Meta Data.\n",
    "* Train-Test Distrubution\n",
    "* Data Augmentation.\n",
    "* Data Pipeline.\n",
    "* Model Config.\n",
    "* Inference\n",
    "\n",
    "\n",
    "\n"
   ]
  },
  {
   "cell_type": "markdown",
   "id": "abd2f621",
   "metadata": {
    "papermill": {
     "duration": 0.017564,
     "end_time": "2021-10-02T10:04:20.392100",
     "exception": false,
     "start_time": "2021-10-02T10:04:20.374536",
     "status": "completed"
    },
    "tags": []
   },
   "source": [
    "# Install Libraries"
   ]
  },
  {
   "cell_type": "code",
   "execution_count": 1,
   "id": "1bdbf585",
   "metadata": {
    "_kg_hide-input": false,
    "_kg_hide-output": true,
    "execution": {
     "iopub.execute_input": "2021-10-02T10:04:20.511068Z",
     "iopub.status.busy": "2021-10-02T10:04:20.510380Z",
     "iopub.status.idle": "2021-10-02T10:04:50.322246Z",
     "shell.execute_reply": "2021-10-02T10:04:50.322710Z",
     "shell.execute_reply.started": "2021-09-30T15:38:00.03527Z"
    },
    "papermill": {
     "duration": 29.913593,
     "end_time": "2021-10-02T10:04:50.322985",
     "exception": false,
     "start_time": "2021-10-02T10:04:20.409392",
     "status": "completed"
    },
    "tags": []
   },
   "outputs": [
    {
     "name": "stdout",
     "output_type": "stream",
     "text": [
      "\u001b[33m  DEPRECATION: A future pip version will change local packages to be built in-place without first copying to a temporary directory. We recommend you use --use-feature=in-tree-build to test your packages with this new behavior before it becomes the default.\r\n",
      "   pip 21.3 will remove support for this functionality. You can find discussion regarding this at https://github.com/pypa/pip/issues/7555.\u001b[0m\r\n",
      "\u001b[33mWARNING: Running pip as the 'root' user can result in broken permissions and conflicting behaviour with the system package manager. It is recommended to use a virtual environment instead: https://pip.pypa.io/warnings/venv\u001b[0m\r\n"
     ]
    }
   ],
   "source": [
    "!pip install -q /kaggle/input/efficientnet-keras-dataset/efficientnet_kaggle"
   ]
  },
  {
   "cell_type": "code",
   "execution_count": 2,
   "id": "5630d158",
   "metadata": {
    "_kg_hide-output": true,
    "execution": {
     "iopub.execute_input": "2021-10-02T10:04:50.371010Z",
     "iopub.status.busy": "2021-10-02T10:04:50.369971Z",
     "iopub.status.idle": "2021-10-02T10:05:17.303074Z",
     "shell.execute_reply": "2021-10-02T10:05:17.302606Z",
     "shell.execute_reply.started": "2021-09-30T15:57:24.243682Z"
    },
    "papermill": {
     "duration": 26.961224,
     "end_time": "2021-10-02T10:05:17.303230",
     "exception": false,
     "start_time": "2021-10-02T10:04:50.342006",
     "status": "completed"
    },
    "tags": []
   },
   "outputs": [
    {
     "name": "stdout",
     "output_type": "stream",
     "text": [
      "\u001b[33mWARNING: Running pip as the 'root' user can result in broken permissions and conflicting behaviour with the system package manager. It is recommended to use a virtual environment instead: https://pip.pypa.io/warnings/venv\u001b[0m\r\n"
     ]
    }
   ],
   "source": [
    "import sys\n",
    "sys.path.append('/kaggle/input/vit-keras-dataset')\n",
    "!pip install -q /kaggle/input/validators0182-dataset/validators-0.18.2-py3-none-any.whl"
   ]
  },
  {
   "cell_type": "markdown",
   "id": "ce6353e6",
   "metadata": {
    "papermill": {
     "duration": 0.018203,
     "end_time": "2021-10-02T10:05:17.339719",
     "exception": false,
     "start_time": "2021-10-02T10:05:17.321516",
     "status": "completed"
    },
    "tags": []
   },
   "source": [
    "# Import Libraries"
   ]
  },
  {
   "cell_type": "code",
   "execution_count": 3,
   "id": "a7d467d4",
   "metadata": {
    "execution": {
     "iopub.execute_input": "2021-10-02T10:05:17.384515Z",
     "iopub.status.busy": "2021-10-02T10:05:17.383951Z",
     "iopub.status.idle": "2021-10-02T10:05:22.388668Z",
     "shell.execute_reply": "2021-10-02T10:05:22.387725Z",
     "shell.execute_reply.started": "2021-09-30T15:57:59.555202Z"
    },
    "papermill": {
     "duration": 5.030341,
     "end_time": "2021-10-02T10:05:22.388809",
     "exception": false,
     "start_time": "2021-10-02T10:05:17.358468",
     "status": "completed"
    },
    "tags": []
   },
   "outputs": [
    {
     "name": "stderr",
     "output_type": "stream",
     "text": [
      "2021-10-02 10:05:17.803505: I tensorflow/stream_executor/platform/default/dso_loader.cc:49] Successfully opened dynamic library libcudart.so.11.0\n"
     ]
    }
   ],
   "source": [
    "import pandas as pd, numpy as np, random,os, shutil\n",
    "import tensorflow as tf, re, math\n",
    "import tensorflow.keras.backend as K\n",
    "import efficientnet.tfkeras as efn\n",
    "import sklearn\n",
    "import matplotlib.pyplot as plt\n",
    "import tensorflow_addons as tfa\n",
    "import yaml\n",
    "\n",
    "from vit_keras import vit, utils, visualize, layers\n",
    "from glob import glob\n",
    "from tqdm.notebook import tqdm\n",
    "from sklearn.model_selection import KFold, StratifiedKFold, GroupKFold\n",
    "from sklearn.metrics import roc_auc_score"
   ]
  },
  {
   "cell_type": "markdown",
   "id": "4f071796",
   "metadata": {
    "papermill": {
     "duration": 0.019583,
     "end_time": "2021-10-02T10:05:22.427315",
     "exception": false,
     "start_time": "2021-10-02T10:05:22.407732",
     "status": "completed"
    },
    "tags": []
   },
   "source": [
    "# Version Check"
   ]
  },
  {
   "cell_type": "code",
   "execution_count": 4,
   "id": "f8dae231",
   "metadata": {
    "execution": {
     "iopub.execute_input": "2021-10-02T10:05:22.470604Z",
     "iopub.status.busy": "2021-10-02T10:05:22.469630Z",
     "iopub.status.idle": "2021-10-02T10:05:22.473404Z",
     "shell.execute_reply": "2021-10-02T10:05:22.472965Z",
     "shell.execute_reply.started": "2021-09-30T15:58:50.801037Z"
    },
    "papermill": {
     "duration": 0.027876,
     "end_time": "2021-10-02T10:05:22.473515",
     "exception": false,
     "start_time": "2021-10-02T10:05:22.445639",
     "status": "completed"
    },
    "tags": []
   },
   "outputs": [
    {
     "name": "stdout",
     "output_type": "stream",
     "text": [
      "np: 1.19.5\n",
      "pd: 1.2.5\n",
      "sklearn: 0.23.2\n",
      "tf: 2.4.1\n",
      "tfa: 0.12.1\n"
     ]
    }
   ],
   "source": [
    "print('np:', np.__version__)\n",
    "print('pd:', pd.__version__)\n",
    "print('sklearn:', sklearn.__version__)\n",
    "print('tf:',tf.__version__)\n",
    "print('tfa:', tfa.__version__)"
   ]
  },
  {
   "cell_type": "markdown",
   "id": "a44f2340",
   "metadata": {
    "papermill": {
     "duration": 0.018513,
     "end_time": "2021-10-02T10:05:22.511104",
     "exception": false,
     "start_time": "2021-10-02T10:05:22.492591",
     "status": "completed"
    },
    "tags": []
   },
   "source": [
    "# Configuration"
   ]
  },
  {
   "cell_type": "code",
   "execution_count": 5,
   "id": "bb69553d",
   "metadata": {
    "execution": {
     "iopub.execute_input": "2021-10-02T10:05:22.555757Z",
     "iopub.status.busy": "2021-10-02T10:05:22.555050Z",
     "iopub.status.idle": "2021-10-02T10:05:22.557821Z",
     "shell.execute_reply": "2021-10-02T10:05:22.558211Z",
     "shell.execute_reply.started": "2021-09-30T15:58:53.557645Z"
    },
    "papermill": {
     "duration": 0.028501,
     "end_time": "2021-10-02T10:05:22.558333",
     "exception": false,
     "start_time": "2021-10-02T10:05:22.529832",
     "status": "completed"
    },
    "tags": []
   },
   "outputs": [],
   "source": [
    "class CFG:\n",
    "    # DBUG OR not\n",
    "    debug = False\n",
    "    \n",
    "    # DEVICE\n",
    "    device = 'GPU'\n",
    "\n",
    "\n",
    "    # IMAGE SIZE\n",
    "    img_size = [512, 512]\n",
    "\n",
    "    # BATCH SIZE AND EPOCHS\n",
    "    batch_size  = 32\n",
    "\n",
    "    # CFG.augmentATION\n",
    "    augment   = True\n",
    "    transform = False\n",
    "\n",
    "    # TRANSFORMATION\n",
    "    fill_mode = 'nearest'\n",
    "    rot    = 10.0\n",
    "    shr    = 5.0\n",
    "    hzoom  = 30.0\n",
    "    wzoom  = 30.0\n",
    "    hshift = 30.0\n",
    "    wshift = 30.0\n",
    "\n",
    "    # FLIP\n",
    "    hflip = True\n",
    "    vflip = False\n",
    "\n",
    "    # CLIP [0, 1]\n",
    "    clip = False\n",
    "\n",
    "    # Dropout\n",
    "    drop_prob   = 0.75\n",
    "    drop_cnt    = 10\n",
    "    drop_size   = 0.05\n",
    "\n",
    "    #bri, contrast\n",
    "    sat  = [0.7, 1.3]\n",
    "    cont = [0.8, 1.2]\n",
    "    bri  =  0.15\n",
    "    hue  = 0.05\n",
    "\n",
    "    # TEST TIME CFG.augmentATION STEPS\n",
    "    tta = 11\n",
    "    \n",
    "    tab_cols    = ['Subject Focus', 'Eyes', 'Face', 'Near', 'Action', 'Accessory',\n",
    "                   'Group', 'Collage', 'Human', 'Occlusion', 'Info', 'Blur']\n",
    "    target_col  = ['Pawpularity']"
   ]
  },
  {
   "cell_type": "markdown",
   "id": "4062f25c",
   "metadata": {
    "papermill": {
     "duration": 0.018288,
     "end_time": "2021-10-02T10:05:22.595841",
     "exception": false,
     "start_time": "2021-10-02T10:05:22.577553",
     "status": "completed"
    },
    "tags": []
   },
   "source": [
    "# DEVICE Configs"
   ]
  },
  {
   "cell_type": "code",
   "execution_count": 6,
   "id": "c0d1c235",
   "metadata": {
    "_kg_hide-input": true,
    "_kg_hide-output": true,
    "execution": {
     "iopub.execute_input": "2021-10-02T10:05:22.639986Z",
     "iopub.status.busy": "2021-10-02T10:05:22.639353Z",
     "iopub.status.idle": "2021-10-02T10:05:22.780831Z",
     "shell.execute_reply": "2021-10-02T10:05:22.780362Z",
     "shell.execute_reply.started": "2021-09-30T15:58:54.33613Z"
    },
    "papermill": {
     "duration": 0.166571,
     "end_time": "2021-10-02T10:05:22.780961",
     "exception": false,
     "start_time": "2021-10-02T10:05:22.614390",
     "status": "completed"
    },
    "tags": []
   },
   "outputs": [
    {
     "name": "stdout",
     "output_type": "stream",
     "text": [
      "Using default strategy for CPU and single GPU\n",
      "Num GPUs Available:  1\n",
      "REPLICAS: 1\n"
     ]
    },
    {
     "name": "stderr",
     "output_type": "stream",
     "text": [
      "2021-10-02 10:05:22.644808: I tensorflow/compiler/jit/xla_cpu_device.cc:41] Not creating XLA devices, tf_xla_enable_xla_devices not set\n",
      "2021-10-02 10:05:22.647752: I tensorflow/stream_executor/platform/default/dso_loader.cc:49] Successfully opened dynamic library libcuda.so.1\n",
      "2021-10-02 10:05:22.685216: I tensorflow/stream_executor/cuda/cuda_gpu_executor.cc:941] successful NUMA node read from SysFS had negative value (-1), but there must be at least one NUMA node, so returning NUMA node zero\n",
      "2021-10-02 10:05:22.685869: I tensorflow/core/common_runtime/gpu/gpu_device.cc:1720] Found device 0 with properties: \n",
      "pciBusID: 0000:00:04.0 name: Tesla P100-PCIE-16GB computeCapability: 6.0\n",
      "coreClock: 1.3285GHz coreCount: 56 deviceMemorySize: 15.90GiB deviceMemoryBandwidth: 681.88GiB/s\n",
      "2021-10-02 10:05:22.685930: I tensorflow/stream_executor/platform/default/dso_loader.cc:49] Successfully opened dynamic library libcudart.so.11.0\n",
      "2021-10-02 10:05:22.711630: I tensorflow/stream_executor/platform/default/dso_loader.cc:49] Successfully opened dynamic library libcublas.so.11\n",
      "2021-10-02 10:05:22.711728: I tensorflow/stream_executor/platform/default/dso_loader.cc:49] Successfully opened dynamic library libcublasLt.so.11\n",
      "2021-10-02 10:05:22.728605: I tensorflow/stream_executor/platform/default/dso_loader.cc:49] Successfully opened dynamic library libcufft.so.10\n",
      "2021-10-02 10:05:22.735669: I tensorflow/stream_executor/platform/default/dso_loader.cc:49] Successfully opened dynamic library libcurand.so.10\n",
      "2021-10-02 10:05:22.759166: I tensorflow/stream_executor/platform/default/dso_loader.cc:49] Successfully opened dynamic library libcusolver.so.10\n",
      "2021-10-02 10:05:22.766967: I tensorflow/stream_executor/platform/default/dso_loader.cc:49] Successfully opened dynamic library libcusparse.so.11\n",
      "2021-10-02 10:05:22.769630: I tensorflow/stream_executor/platform/default/dso_loader.cc:49] Successfully opened dynamic library libcudnn.so.8\n",
      "2021-10-02 10:05:22.769836: I tensorflow/stream_executor/cuda/cuda_gpu_executor.cc:941] successful NUMA node read from SysFS had negative value (-1), but there must be at least one NUMA node, so returning NUMA node zero\n",
      "2021-10-02 10:05:22.770591: I tensorflow/stream_executor/cuda/cuda_gpu_executor.cc:941] successful NUMA node read from SysFS had negative value (-1), but there must be at least one NUMA node, so returning NUMA node zero\n",
      "2021-10-02 10:05:22.771886: I tensorflow/core/common_runtime/gpu/gpu_device.cc:1862] Adding visible gpu devices: 0\n"
     ]
    }
   ],
   "source": [
    "if CFG.device == \"TPU\":\n",
    "    print(\"connecting to TPU...\")\n",
    "    try:\n",
    "        tpu = tf.distribute.cluster_resolver.TPUClusterResolver()\n",
    "        print('Running on TPU ', tpu.master())\n",
    "    except ValueError:\n",
    "        print(\"Could not connect to TPU\")\n",
    "        tpu = None\n",
    "\n",
    "    if tpu:\n",
    "        try:\n",
    "            print(\"initializing  TPU ...\")\n",
    "            tf.config.experimental_connect_to_cluster(tpu)\n",
    "            tf.tpu.experimental.initialize_tpu_system(tpu)\n",
    "            strategy = tf.distribute.experimental.TPUStrategy(tpu)\n",
    "            print(\"TPU initialized\")\n",
    "        except _:\n",
    "            print(\"failed to initialize TPU\")\n",
    "    else:\n",
    "        CFG.device = \"GPU\"\n",
    "\n",
    "if CFG.device != \"TPU\":\n",
    "    print(\"Using default strategy for CPU and single GPU\")\n",
    "    strategy = tf.distribute.get_strategy()\n",
    "\n",
    "if CFG.device == \"GPU\":\n",
    "    print(\"Num GPUs Available: \", len(tf.config.experimental.list_physical_devices('GPU')))\n",
    "    \n",
    "\n",
    "AUTO     = tf.data.experimental.AUTOTUNE\n",
    "REPLICAS = strategy.num_replicas_in_sync\n",
    "print(f'REPLICAS: {REPLICAS}')"
   ]
  },
  {
   "cell_type": "markdown",
   "id": "fc911f80",
   "metadata": {
    "papermill": {
     "duration": 0.019851,
     "end_time": "2021-10-02T10:05:22.820887",
     "exception": false,
     "start_time": "2021-10-02T10:05:22.801036",
     "status": "completed"
    },
    "tags": []
   },
   "source": [
    "# Base Path for Dataset"
   ]
  },
  {
   "cell_type": "code",
   "execution_count": 7,
   "id": "bcbe28b9",
   "metadata": {
    "_kg_hide-input": true,
    "execution": {
     "iopub.execute_input": "2021-10-02T10:05:22.864848Z",
     "iopub.status.busy": "2021-10-02T10:05:22.864333Z",
     "iopub.status.idle": "2021-10-02T10:05:22.867793Z",
     "shell.execute_reply": "2021-10-02T10:05:22.867355Z",
     "shell.execute_reply.started": "2021-09-30T15:58:54.993943Z"
    },
    "papermill": {
     "duration": 0.027342,
     "end_time": "2021-10-02T10:05:22.867911",
     "exception": false,
     "start_time": "2021-10-02T10:05:22.840569",
     "status": "completed"
    },
    "tags": []
   },
   "outputs": [],
   "source": [
    "BASE_PATH = '/kaggle/input/petfinder-pawpularity-score'"
   ]
  },
  {
   "cell_type": "markdown",
   "id": "692e5062",
   "metadata": {
    "papermill": {
     "duration": 0.019157,
     "end_time": "2021-10-02T10:05:22.906414",
     "exception": false,
     "start_time": "2021-10-02T10:05:22.887257",
     "status": "completed"
    },
    "tags": []
   },
   "source": [
    "# Meta Data"
   ]
  },
  {
   "cell_type": "code",
   "execution_count": 8,
   "id": "5d6f5cf7",
   "metadata": {
    "execution": {
     "iopub.execute_input": "2021-10-02T10:05:22.950067Z",
     "iopub.status.busy": "2021-10-02T10:05:22.949592Z",
     "iopub.status.idle": "2021-10-02T10:05:23.035275Z",
     "shell.execute_reply": "2021-10-02T10:05:23.034829Z",
     "shell.execute_reply.started": "2021-09-30T15:58:55.606118Z"
    },
    "papermill": {
     "duration": 0.109529,
     "end_time": "2021-10-02T10:05:23.035401",
     "exception": false,
     "start_time": "2021-10-02T10:05:22.925872",
     "status": "completed"
    },
    "tags": []
   },
   "outputs": [
    {
     "data": {
      "text/html": [
       "<div>\n",
       "<style scoped>\n",
       "    .dataframe tbody tr th:only-of-type {\n",
       "        vertical-align: middle;\n",
       "    }\n",
       "\n",
       "    .dataframe tbody tr th {\n",
       "        vertical-align: top;\n",
       "    }\n",
       "\n",
       "    .dataframe thead th {\n",
       "        text-align: right;\n",
       "    }\n",
       "</style>\n",
       "<table border=\"1\" class=\"dataframe\">\n",
       "  <thead>\n",
       "    <tr style=\"text-align: right;\">\n",
       "      <th></th>\n",
       "      <th>Id</th>\n",
       "      <th>Subject Focus</th>\n",
       "      <th>Eyes</th>\n",
       "      <th>Face</th>\n",
       "      <th>Near</th>\n",
       "      <th>Action</th>\n",
       "      <th>Accessory</th>\n",
       "      <th>Group</th>\n",
       "      <th>Collage</th>\n",
       "      <th>Human</th>\n",
       "      <th>Occlusion</th>\n",
       "      <th>Info</th>\n",
       "      <th>Blur</th>\n",
       "      <th>Pawpularity</th>\n",
       "      <th>image_path</th>\n",
       "    </tr>\n",
       "  </thead>\n",
       "  <tbody>\n",
       "    <tr>\n",
       "      <th>0</th>\n",
       "      <td>0007de18844b0dbbb5e1f607da0606e0</td>\n",
       "      <td>0</td>\n",
       "      <td>1</td>\n",
       "      <td>1</td>\n",
       "      <td>1</td>\n",
       "      <td>0</td>\n",
       "      <td>0</td>\n",
       "      <td>1</td>\n",
       "      <td>0</td>\n",
       "      <td>0</td>\n",
       "      <td>0</td>\n",
       "      <td>0</td>\n",
       "      <td>0</td>\n",
       "      <td>63</td>\n",
       "      <td>/kaggle/input/petfinder-pawpularity-score/trai...</td>\n",
       "    </tr>\n",
       "    <tr>\n",
       "      <th>1</th>\n",
       "      <td>0009c66b9439883ba2750fb825e1d7db</td>\n",
       "      <td>0</td>\n",
       "      <td>1</td>\n",
       "      <td>1</td>\n",
       "      <td>0</td>\n",
       "      <td>0</td>\n",
       "      <td>0</td>\n",
       "      <td>0</td>\n",
       "      <td>0</td>\n",
       "      <td>0</td>\n",
       "      <td>0</td>\n",
       "      <td>0</td>\n",
       "      <td>0</td>\n",
       "      <td>42</td>\n",
       "      <td>/kaggle/input/petfinder-pawpularity-score/trai...</td>\n",
       "    </tr>\n",
       "  </tbody>\n",
       "</table>\n",
       "</div>"
      ],
      "text/plain": [
       "                                 Id  Subject Focus  Eyes  Face  Near  Action  \\\n",
       "0  0007de18844b0dbbb5e1f607da0606e0              0     1     1     1       0   \n",
       "1  0009c66b9439883ba2750fb825e1d7db              0     1     1     0       0   \n",
       "\n",
       "   Accessory  Group  Collage  Human  Occlusion  Info  Blur  Pawpularity  \\\n",
       "0          0      1        0      0          0     0     0           63   \n",
       "1          0      0        0      0          0     0     0           42   \n",
       "\n",
       "                                          image_path  \n",
       "0  /kaggle/input/petfinder-pawpularity-score/trai...  \n",
       "1  /kaggle/input/petfinder-pawpularity-score/trai...  "
      ]
     },
     "metadata": {},
     "output_type": "display_data"
    },
    {
     "data": {
      "text/html": [
       "<div>\n",
       "<style scoped>\n",
       "    .dataframe tbody tr th:only-of-type {\n",
       "        vertical-align: middle;\n",
       "    }\n",
       "\n",
       "    .dataframe tbody tr th {\n",
       "        vertical-align: top;\n",
       "    }\n",
       "\n",
       "    .dataframe thead th {\n",
       "        text-align: right;\n",
       "    }\n",
       "</style>\n",
       "<table border=\"1\" class=\"dataframe\">\n",
       "  <thead>\n",
       "    <tr style=\"text-align: right;\">\n",
       "      <th></th>\n",
       "      <th>Id</th>\n",
       "      <th>Subject Focus</th>\n",
       "      <th>Eyes</th>\n",
       "      <th>Face</th>\n",
       "      <th>Near</th>\n",
       "      <th>Action</th>\n",
       "      <th>Accessory</th>\n",
       "      <th>Group</th>\n",
       "      <th>Collage</th>\n",
       "      <th>Human</th>\n",
       "      <th>Occlusion</th>\n",
       "      <th>Info</th>\n",
       "      <th>Blur</th>\n",
       "      <th>image_path</th>\n",
       "    </tr>\n",
       "  </thead>\n",
       "  <tbody>\n",
       "    <tr>\n",
       "      <th>0</th>\n",
       "      <td>4128bae22183829d2b5fea10effdb0c3</td>\n",
       "      <td>1</td>\n",
       "      <td>0</td>\n",
       "      <td>1</td>\n",
       "      <td>0</td>\n",
       "      <td>0</td>\n",
       "      <td>1</td>\n",
       "      <td>1</td>\n",
       "      <td>0</td>\n",
       "      <td>0</td>\n",
       "      <td>1</td>\n",
       "      <td>0</td>\n",
       "      <td>1</td>\n",
       "      <td>/kaggle/input/petfinder-pawpularity-score/test...</td>\n",
       "    </tr>\n",
       "    <tr>\n",
       "      <th>1</th>\n",
       "      <td>43a2262d7738e3d420d453815151079e</td>\n",
       "      <td>0</td>\n",
       "      <td>1</td>\n",
       "      <td>0</td>\n",
       "      <td>0</td>\n",
       "      <td>0</td>\n",
       "      <td>0</td>\n",
       "      <td>1</td>\n",
       "      <td>1</td>\n",
       "      <td>0</td>\n",
       "      <td>0</td>\n",
       "      <td>0</td>\n",
       "      <td>0</td>\n",
       "      <td>/kaggle/input/petfinder-pawpularity-score/test...</td>\n",
       "    </tr>\n",
       "  </tbody>\n",
       "</table>\n",
       "</div>"
      ],
      "text/plain": [
       "                                 Id  Subject Focus  Eyes  Face  Near  Action  \\\n",
       "0  4128bae22183829d2b5fea10effdb0c3              1     0     1     0       0   \n",
       "1  43a2262d7738e3d420d453815151079e              0     1     0     0       0   \n",
       "\n",
       "   Accessory  Group  Collage  Human  Occlusion  Info  Blur  \\\n",
       "0          1      1        0      0          1     0     1   \n",
       "1          0      1        1      0          0     0     0   \n",
       "\n",
       "                                          image_path  \n",
       "0  /kaggle/input/petfinder-pawpularity-score/test...  \n",
       "1  /kaggle/input/petfinder-pawpularity-score/test...  "
      ]
     },
     "metadata": {},
     "output_type": "display_data"
    }
   ],
   "source": [
    "# Train Data\n",
    "df = pd.read_csv('../input/petfinder-pawpularity-score/train.csv')\n",
    "df['image_path'] = BASE_PATH + '/train/' + df.Id + '.jpg'\n",
    "display(df.head(2))\n",
    "\n",
    "# Test Data\n",
    "test_df  = pd.read_csv('../input/petfinder-pawpularity-score/test.csv')\n",
    "test_df['image_path'] = BASE_PATH + '/test/' + test_df.Id + '.jpg'\n",
    "\n",
    "display(test_df.head(2))"
   ]
  },
  {
   "cell_type": "markdown",
   "id": "c4d61048",
   "metadata": {
    "papermill": {
     "duration": 0.021642,
     "end_time": "2021-10-02T10:05:23.078445",
     "exception": false,
     "start_time": "2021-10-02T10:05:23.056803",
     "status": "completed"
    },
    "tags": []
   },
   "source": [
    "## Train-Test Ditribution"
   ]
  },
  {
   "cell_type": "code",
   "execution_count": 9,
   "id": "30f86e8e",
   "metadata": {
    "execution": {
     "iopub.execute_input": "2021-10-02T10:05:23.125416Z",
     "iopub.status.busy": "2021-10-02T10:05:23.124832Z",
     "iopub.status.idle": "2021-10-02T10:05:23.127443Z",
     "shell.execute_reply": "2021-10-02T10:05:23.127835Z",
     "shell.execute_reply.started": "2021-09-30T15:38:36.080814Z"
    },
    "papermill": {
     "duration": 0.028831,
     "end_time": "2021-10-02T10:05:23.127957",
     "exception": false,
     "start_time": "2021-10-02T10:05:23.099126",
     "status": "completed"
    },
    "tags": []
   },
   "outputs": [
    {
     "name": "stdout",
     "output_type": "stream",
     "text": [
      "train_files: 9912\n",
      "test_files: 8\n"
     ]
    }
   ],
   "source": [
    "print('train_files:',df.shape[0])\n",
    "print('test_files:',test_df.shape[0])"
   ]
  },
  {
   "cell_type": "markdown",
   "id": "f819103f",
   "metadata": {
    "papermill": {
     "duration": 0.020997,
     "end_time": "2021-10-02T10:05:23.170622",
     "exception": false,
     "start_time": "2021-10-02T10:05:23.149625",
     "status": "completed"
    },
    "tags": []
   },
   "source": [
    "# Data Augmentation\n",
    "Used simple augmentations, some of them may hurt the model.\n",
    "* RandomFlip (Left-Right)\n",
    "* No Rotation\n",
    "* RandomBrightness\n",
    "* RndomContrast\n",
    "* Shear\n",
    "* Zoom\n",
    "* Coarsee Dropout/Cutout"
   ]
  },
  {
   "cell_type": "code",
   "execution_count": 10,
   "id": "ccc0a238",
   "metadata": {
    "_kg_hide-input": true,
    "execution": {
     "iopub.execute_input": "2021-10-02T10:05:23.215415Z",
     "iopub.status.busy": "2021-10-02T10:05:23.214590Z",
     "iopub.status.idle": "2021-10-02T10:05:23.237162Z",
     "shell.execute_reply": "2021-10-02T10:05:23.236735Z",
     "shell.execute_reply.started": "2021-09-30T15:59:04.434987Z"
    },
    "papermill": {
     "duration": 0.04567,
     "end_time": "2021-10-02T10:05:23.237265",
     "exception": false,
     "start_time": "2021-10-02T10:05:23.191595",
     "status": "completed"
    },
    "tags": []
   },
   "outputs": [],
   "source": [
    "def get_mat(shear, height_zoom, width_zoom, height_shift, width_shift):\n",
    "    # returns 3x3 transformmatrix which transforms indicies\n",
    "        \n",
    "    # CONVERT DEGREES TO RADIANS\n",
    "    #rotation = math.pi * rotation / 180.\n",
    "    shear    = math.pi * shear    / 180.\n",
    "\n",
    "    def get_3x3_mat(lst):\n",
    "        return tf.reshape(tf.concat([lst],axis=0), [3,3])\n",
    "    \n",
    "    # ROTATION MATRIX\n",
    "#     c1   = tf.math.cos(rotation)\n",
    "#     s1   = tf.math.sin(rotation)\n",
    "    one  = tf.constant([1],dtype='float32')\n",
    "    zero = tf.constant([0],dtype='float32')\n",
    "    \n",
    "#     rotation_matrix = get_3x3_mat([c1,   s1,   zero, \n",
    "#                                    -s1,  c1,   zero, \n",
    "#                                    zero, zero, one])    \n",
    "    # SHEAR MATRIX\n",
    "    c2 = tf.math.cos(shear)\n",
    "    s2 = tf.math.sin(shear)    \n",
    "    \n",
    "    shear_matrix = get_3x3_mat([one,  s2,   zero, \n",
    "                               zero, c2,   zero, \n",
    "                                zero, zero, one])        \n",
    "    # ZOOM MATRIX\n",
    "    zoom_matrix = get_3x3_mat([one/height_zoom, zero,           zero, \n",
    "                               zero,            one/width_zoom, zero, \n",
    "                               zero,            zero,           one])    \n",
    "    # SHIFT MATRIX\n",
    "    shift_matrix = get_3x3_mat([one,  zero, height_shift, \n",
    "                                zero, one,  width_shift, \n",
    "                                zero, zero, one])\n",
    "    \n",
    "\n",
    "    return  K.dot(shear_matrix,K.dot(zoom_matrix, shift_matrix)) #K.dot(K.dot(rotation_matrix, shear_matrix), K.dot(zoom_matrix, shift_matrix))                  \n",
    "\n",
    "def transform(image, DIM=CFG.img_size):#[rot,shr,h_zoom,w_zoom,h_shift,w_shift]):\n",
    "    if DIM[0]!=DIM[1]:\n",
    "        pad = (DIM[0]-DIM[1])//2\n",
    "        image = tf.pad(image, [[0, 0], [pad, pad+1],[0, 0]])\n",
    "        \n",
    "    NEW_DIM = DIM[0]\n",
    "    \n",
    "    rot = CFG.rot * tf.random.normal([1], dtype='float32')\n",
    "    shr = CFG.shr * tf.random.normal([1], dtype='float32') \n",
    "    h_zoom = 1.0 + tf.random.normal([1], dtype='float32') / CFG.hzoom\n",
    "    w_zoom = 1.0 + tf.random.normal([1], dtype='float32') / CFG.wzoom\n",
    "    h_shift = CFG.hshift * tf.random.normal([1], dtype='float32') \n",
    "    w_shift = CFG.wshift * tf.random.normal([1], dtype='float32') \n",
    "    \n",
    "    transformation_matrix=tf.linalg.inv(get_mat(shr,h_zoom,w_zoom,h_shift,w_shift))\n",
    "    \n",
    "    flat_tensor=tfa.image.transform_ops.matrices_to_flat_transforms(transformation_matrix)\n",
    "    \n",
    "    image=tfa.image.transform(image,flat_tensor, fill_mode=CFG.fill_mode)\n",
    "    \n",
    "    rotation = math.pi * rot / 180.\n",
    "    \n",
    "    image=tfa.image.rotate(image,-rotation, fill_mode=CFG.fill_mode)\n",
    "    \n",
    "    if DIM[0]!=DIM[1]:\n",
    "        image=tf.reshape(image, [NEW_DIM, NEW_DIM,3])\n",
    "        image = image[:, pad:DIM[1]+pad,:]\n",
    "    image = tf.reshape(image, [*DIM, 3])    \n",
    "    return image\n",
    "\n",
    "def dropout(image,DIM=CFG.img_size, PROBABILITY = 0.6, CT = 5, SZ = 0.1):\n",
    "    # input image - is one image of size [dim,dim,3] not a batch of [b,dim,dim,3]\n",
    "    # output - image with CT squares of side size SZ*DIM removed\n",
    "    \n",
    "    # DO DROPOUT WITH PROBABILITY DEFINED ABOVE\n",
    "    P = tf.cast( tf.random.uniform([],0,1)<PROBABILITY, tf.int32)\n",
    "    if (P==0)|(CT==0)|(SZ==0): \n",
    "        return image\n",
    "    \n",
    "    for k in range(CT):\n",
    "        # CHOOSE RANDOM LOCATION\n",
    "        x = tf.cast( tf.random.uniform([],0,DIM[1]),tf.int32)\n",
    "        y = tf.cast( tf.random.uniform([],0,DIM[0]),tf.int32)\n",
    "        # COMPUTE SQUARE \n",
    "        WIDTH = tf.cast( SZ*min(DIM),tf.int32) * P\n",
    "        ya = tf.math.maximum(0,y-WIDTH//2)\n",
    "        yb = tf.math.minimum(DIM[0],y+WIDTH//2)\n",
    "        xa = tf.math.maximum(0,x-WIDTH//2)\n",
    "        xb = tf.math.minimum(DIM[1],x+WIDTH//2)\n",
    "        # DROPOUT IMAGE\n",
    "        one = image[ya:yb,0:xa,:]\n",
    "        two = tf.zeros([yb-ya,xb-xa,3], dtype = image.dtype) \n",
    "        three = image[ya:yb,xb:DIM[1],:]\n",
    "        middle = tf.concat([one,two,three],axis=1)\n",
    "        image = tf.concat([image[0:ya,:,:],middle,image[yb:DIM[0],:,:]],axis=0)\n",
    "        image = tf.reshape(image,[*DIM,3])\n",
    "\n",
    "#     image = tf.reshape(image,[*DIM,3])\n",
    "    return image"
   ]
  },
  {
   "cell_type": "markdown",
   "id": "3935928c",
   "metadata": {
    "papermill": {
     "duration": 0.020412,
     "end_time": "2021-10-02T10:05:23.278251",
     "exception": false,
     "start_time": "2021-10-02T10:05:23.257839",
     "status": "completed"
    },
    "tags": []
   },
   "source": [
    "## Data Pipeline\n",
    "* Reads the raw file and then decodes it to tf.Tensor\n",
    "* Resizes the image in desired size\n",
    "* Chages the datatype to **float32**\n",
    "* Caches the Data for boosting up the speed.\n",
    "* Uses Augmentations to reduce overfitting and make model more robust.\n",
    "* Finally, splits the data into batches.\n"
   ]
  },
  {
   "cell_type": "code",
   "execution_count": 11,
   "id": "0dbdfb46",
   "metadata": {
    "_kg_hide-input": true,
    "execution": {
     "iopub.execute_input": "2021-10-02T10:05:23.337631Z",
     "iopub.status.busy": "2021-10-02T10:05:23.336860Z",
     "iopub.status.idle": "2021-10-02T10:05:23.338828Z",
     "shell.execute_reply": "2021-10-02T10:05:23.339238Z",
     "shell.execute_reply.started": "2021-09-30T15:59:05.345453Z"
    },
    "papermill": {
     "duration": 0.040633,
     "end_time": "2021-10-02T10:05:23.339366",
     "exception": false,
     "start_time": "2021-10-02T10:05:23.298733",
     "status": "completed"
    },
    "tags": []
   },
   "outputs": [],
   "source": [
    "def build_decoder(with_labels=True, target_size=CFG.img_size, ext='jpg'):\n",
    "    def decode(path):\n",
    "        file_bytes = tf.io.read_file(path)\n",
    "        if ext == 'png':\n",
    "            img = tf.image.decode_png(file_bytes, channels=3)\n",
    "        elif ext in ['jpg', 'jpeg']:\n",
    "            img = tf.image.decode_jpeg(file_bytes, channels=3)\n",
    "        else:\n",
    "            raise ValueError(\"Image extension not supported\")\n",
    "\n",
    "        img = tf.image.resize(img, target_size)\n",
    "        img = tf.cast(img, tf.float32) / 255.0\n",
    "        img = tf.reshape(img, [*target_size, 3])\n",
    "\n",
    "        return img\n",
    "    \n",
    "    def decode_with_labels(path, label):\n",
    "        return decode(path), tf.cast(label, tf.float32)\n",
    "    \n",
    "    return decode_with_labels if with_labels else decode\n",
    "\n",
    "\n",
    "def build_augmenter(with_labels=True, dim=CFG.img_size):\n",
    "    def augment(img, dim=dim):\n",
    "        img = transform(img,DIM=dim) if CFG.transform else img\n",
    "        img = tf.image.random_flip_left_right(img) if CFG.hflip else img\n",
    "        img = tf.image.random_flip_up_down(img) if CFG.vflip else img\n",
    "        img = tf.image.random_hue(img, CFG.hue)\n",
    "        img = tf.image.random_saturation(img, CFG.sat[0], CFG.sat[1])\n",
    "        img = tf.image.random_contrast(img, CFG.cont[0], CFG.cont[1])\n",
    "        img = tf.image.random_brightness(img, CFG.bri)\n",
    "        img = dropout(img, DIM=dim, PROBABILITY = CFG.drop_prob, CT = CFG.drop_cnt, SZ = CFG.drop_size)\n",
    "        img = tf.clip_by_value(img, 0, 1)  if CFG.clip else img         \n",
    "        img = tf.reshape(img, [*dim, 3])\n",
    "        return img\n",
    "    \n",
    "    def augment_with_labels(img, label):    \n",
    "        return augment(img), label\n",
    "    \n",
    "    return augment_with_labels if with_labels else augment\n",
    "\n",
    "\n",
    "def build_dataset(paths, labels=None, batch_size=32, cache=True,\n",
    "                  decode_fn=None, augment_fn=None,\n",
    "                  augment=True, repeat=True, shuffle=1024, \n",
    "                  cache_dir=\"\", drop_remainder=False):\n",
    "    if cache_dir != \"\" and cache is True:\n",
    "        os.makedirs(cache_dir, exist_ok=True)\n",
    "    \n",
    "    if decode_fn is None:\n",
    "        decode_fn = build_decoder(labels is not None)\n",
    "    \n",
    "    if augment_fn is None:\n",
    "        augment_fn = build_augmenter(labels is not None)\n",
    "    \n",
    "    AUTO = tf.data.experimental.AUTOTUNE\n",
    "    slices = paths if labels is None else (paths, labels)\n",
    "    \n",
    "    ds = tf.data.Dataset.from_tensor_slices(slices)\n",
    "    ds = ds.map(decode_fn, num_parallel_calls=AUTO)\n",
    "    ds = ds.cache(cache_dir) if cache else ds\n",
    "    ds = ds.repeat() if repeat else ds\n",
    "    if shuffle: \n",
    "        ds = ds.shuffle(shuffle, seed=CFG.seed)\n",
    "        opt = tf.data.Options()\n",
    "        opt.experimental_deterministic = False\n",
    "        ds = ds.with_options(opt)\n",
    "    ds = ds.map(augment_fn, num_parallel_calls=AUTO) if augment else ds\n",
    "    ds = ds.batch(batch_size, drop_remainder=drop_remainder)\n",
    "    ds = ds.prefetch(AUTO)\n",
    "    return ds"
   ]
  },
  {
   "cell_type": "markdown",
   "id": "a5c2817d",
   "metadata": {
    "papermill": {
     "duration": 0.021233,
     "end_time": "2021-10-02T10:05:23.382044",
     "exception": false,
     "start_time": "2021-10-02T10:05:23.360811",
     "status": "completed"
    },
    "tags": []
   },
   "source": [
    "# Model Configs"
   ]
  },
  {
   "cell_type": "code",
   "execution_count": 12,
   "id": "eade2ae2",
   "metadata": {
    "execution": {
     "iopub.execute_input": "2021-10-02T10:05:23.428565Z",
     "iopub.status.busy": "2021-10-02T10:05:23.427023Z",
     "iopub.status.idle": "2021-10-02T10:05:23.437637Z",
     "shell.execute_reply": "2021-10-02T10:05:23.437041Z",
     "shell.execute_reply.started": "2021-09-30T15:59:06.359923Z"
    },
    "papermill": {
     "duration": 0.034806,
     "end_time": "2021-10-02T10:05:23.437755",
     "exception": false,
     "start_time": "2021-10-02T10:05:23.402949",
     "status": "completed"
    },
    "tags": []
   },
   "outputs": [],
   "source": [
    "BASE_DIRS = [\n",
    "    (512, '/kaggle/input/tf-petfinder-vit-cls-tpu-train'),\n",
    "]\n",
    "\n",
    "MODEL_CONFIGS = []\n",
    "for dim, base_dir in  BASE_DIRS:\n",
    "    paths = sorted(glob(os.path.join(base_dir, '*h5')))\n",
    "    if len(paths)==0:\n",
    "        print('no model found for :',base_dir)\n",
    "    MODEL_CONFIGS.append([dim, paths])"
   ]
  },
  {
   "cell_type": "markdown",
   "id": "bf47ed88",
   "metadata": {
    "papermill": {
     "duration": 0.021071,
     "end_time": "2021-10-02T10:05:23.480153",
     "exception": false,
     "start_time": "2021-10-02T10:05:23.459082",
     "status": "completed"
    },
    "tags": []
   },
   "source": [
    "# Inference"
   ]
  },
  {
   "cell_type": "code",
   "execution_count": 13,
   "id": "ebdcdb99",
   "metadata": {
    "_kg_hide-output": true,
    "execution": {
     "iopub.execute_input": "2021-10-02T10:05:23.533724Z",
     "iopub.status.busy": "2021-10-02T10:05:23.524951Z",
     "iopub.status.idle": "2021-10-02T10:06:59.092422Z",
     "shell.execute_reply": "2021-10-02T10:06:59.092799Z",
     "shell.execute_reply.started": "2021-09-30T15:59:07.491765Z"
    },
    "papermill": {
     "duration": 95.591498,
     "end_time": "2021-10-02T10:06:59.092961",
     "exception": false,
     "start_time": "2021-10-02T10:05:23.501463",
     "status": "completed"
    },
    "tags": []
   },
   "outputs": [
    {
     "name": "stdout",
     "output_type": "stream",
     "text": [
      "===================================\n",
      "### Inference\n",
      "===================================\n"
     ]
    },
    {
     "data": {
      "application/vnd.jupyter.widget-view+json": {
       "model_id": "f88cb5650be94d53a63edb0547b65e75",
       "version_major": 2,
       "version_minor": 0
      },
      "text/plain": [
       "  0%|          | 0/1 [00:00<?, ?it/s]"
      ]
     },
     "metadata": {},
     "output_type": "display_data"
    },
    {
     "name": "stderr",
     "output_type": "stream",
     "text": [
      "2021-10-02 10:05:23.562949: I tensorflow/core/platform/cpu_feature_guard.cc:142] This TensorFlow binary is optimized with oneAPI Deep Neural Network Library (oneDNN) to use the following CPU instructions in performance-critical operations:  AVX2 AVX512F FMA\n",
      "To enable them in other operations, rebuild TensorFlow with the appropriate compiler flags.\n",
      "2021-10-02 10:05:23.563250: I tensorflow/compiler/jit/xla_gpu_device.cc:99] Not creating XLA devices, tf_xla_enable_xla_devices not set\n",
      "2021-10-02 10:05:23.563615: I tensorflow/stream_executor/cuda/cuda_gpu_executor.cc:941] successful NUMA node read from SysFS had negative value (-1), but there must be at least one NUMA node, so returning NUMA node zero\n",
      "2021-10-02 10:05:23.564560: I tensorflow/core/common_runtime/gpu/gpu_device.cc:1720] Found device 0 with properties: \n",
      "pciBusID: 0000:00:04.0 name: Tesla P100-PCIE-16GB computeCapability: 6.0\n",
      "coreClock: 1.3285GHz coreCount: 56 deviceMemorySize: 15.90GiB deviceMemoryBandwidth: 681.88GiB/s\n",
      "2021-10-02 10:05:23.564698: I tensorflow/stream_executor/platform/default/dso_loader.cc:49] Successfully opened dynamic library libcudart.so.11.0\n",
      "2021-10-02 10:05:23.564811: I tensorflow/stream_executor/platform/default/dso_loader.cc:49] Successfully opened dynamic library libcublas.so.11\n",
      "2021-10-02 10:05:23.564875: I tensorflow/stream_executor/platform/default/dso_loader.cc:49] Successfully opened dynamic library libcublasLt.so.11\n",
      "2021-10-02 10:05:23.564938: I tensorflow/stream_executor/platform/default/dso_loader.cc:49] Successfully opened dynamic library libcufft.so.10\n",
      "2021-10-02 10:05:23.564983: I tensorflow/stream_executor/platform/default/dso_loader.cc:49] Successfully opened dynamic library libcurand.so.10\n",
      "2021-10-02 10:05:23.565028: I tensorflow/stream_executor/platform/default/dso_loader.cc:49] Successfully opened dynamic library libcusolver.so.10\n",
      "2021-10-02 10:05:23.565078: I tensorflow/stream_executor/platform/default/dso_loader.cc:49] Successfully opened dynamic library libcusparse.so.11\n",
      "2021-10-02 10:05:23.565130: I tensorflow/stream_executor/platform/default/dso_loader.cc:49] Successfully opened dynamic library libcudnn.so.8\n",
      "2021-10-02 10:05:23.565317: I tensorflow/stream_executor/cuda/cuda_gpu_executor.cc:941] successful NUMA node read from SysFS had negative value (-1), but there must be at least one NUMA node, so returning NUMA node zero\n",
      "2021-10-02 10:05:23.566397: I tensorflow/stream_executor/cuda/cuda_gpu_executor.cc:941] successful NUMA node read from SysFS had negative value (-1), but there must be at least one NUMA node, so returning NUMA node zero\n",
      "2021-10-02 10:05:23.567339: I tensorflow/core/common_runtime/gpu/gpu_device.cc:1862] Adding visible gpu devices: 0\n",
      "2021-10-02 10:05:23.568119: I tensorflow/stream_executor/platform/default/dso_loader.cc:49] Successfully opened dynamic library libcudart.so.11.0\n",
      "2021-10-02 10:05:25.020979: I tensorflow/core/common_runtime/gpu/gpu_device.cc:1261] Device interconnect StreamExecutor with strength 1 edge matrix:\n",
      "2021-10-02 10:05:25.021026: I tensorflow/core/common_runtime/gpu/gpu_device.cc:1267]      0 \n",
      "2021-10-02 10:05:25.021037: I tensorflow/core/common_runtime/gpu/gpu_device.cc:1280] 0:   N \n",
      "2021-10-02 10:05:25.023109: I tensorflow/stream_executor/cuda/cuda_gpu_executor.cc:941] successful NUMA node read from SysFS had negative value (-1), but there must be at least one NUMA node, so returning NUMA node zero\n",
      "2021-10-02 10:05:25.024066: I tensorflow/stream_executor/cuda/cuda_gpu_executor.cc:941] successful NUMA node read from SysFS had negative value (-1), but there must be at least one NUMA node, so returning NUMA node zero\n",
      "2021-10-02 10:05:25.024773: I tensorflow/stream_executor/cuda/cuda_gpu_executor.cc:941] successful NUMA node read from SysFS had negative value (-1), but there must be at least one NUMA node, so returning NUMA node zero\n",
      "2021-10-02 10:05:25.025349: I tensorflow/core/common_runtime/gpu/gpu_device.cc:1406] Created TensorFlow device (/job:localhost/replica:0/task:0/device:GPU:0 with 14957 MB memory) -> physical GPU (device: 0, name: Tesla P100-PCIE-16GB, pci bus id: 0000:00:04.0, compute capability: 6.0)\n"
     ]
    },
    {
     "name": "stdout",
     "output_type": "stream",
     "text": [
      "Model: /kaggle/input/tf-petfinder-vit-cls-tpu-train/fold-0.h5\n",
      "Loading Model...\n",
      "Predicting...\n"
     ]
    },
    {
     "name": "stderr",
     "output_type": "stream",
     "text": [
      "2021-10-02 10:05:33.411992: I tensorflow/compiler/mlir/mlir_graph_optimization_pass.cc:116] None of the MLIR optimization passes are enabled (registered 2)\n",
      "2021-10-02 10:05:33.415921: I tensorflow/core/platform/profile_utils/cpu_utils.cc:112] CPU Frequency: 2000160000 Hz\n",
      "2021-10-02 10:05:36.439523: I tensorflow/stream_executor/platform/default/dso_loader.cc:49] Successfully opened dynamic library libcublas.so.11\n",
      "2021-10-02 10:05:37.155530: I tensorflow/stream_executor/platform/default/dso_loader.cc:49] Successfully opened dynamic library libcublasLt.so.11\n",
      "2021-10-02 10:05:37.180850: I tensorflow/stream_executor/platform/default/dso_loader.cc:49] Successfully opened dynamic library libcudnn.so.8\n"
     ]
    },
    {
     "name": "stdout",
     "output_type": "stream",
     "text": [
      "88/88 [==============================] - 16s 86ms/step\n",
      "\n",
      "Model: /kaggle/input/tf-petfinder-vit-cls-tpu-train/fold-1.h5\n",
      "Loading Model...\n",
      "Predicting...\n",
      "88/88 [==============================] - 10s 91ms/step\n",
      "\n",
      "Model: /kaggle/input/tf-petfinder-vit-cls-tpu-train/fold-2.h5\n",
      "Loading Model...\n",
      "Predicting...\n",
      "88/88 [==============================] - 10s 86ms/step\n",
      "\n",
      "Model: /kaggle/input/tf-petfinder-vit-cls-tpu-train/fold-3.h5\n",
      "Loading Model...\n",
      "Predicting...\n",
      "88/88 [==============================] - 11s 91ms/step\n",
      "\n",
      "Model: /kaggle/input/tf-petfinder-vit-cls-tpu-train/fold-4.h5\n",
      "Loading Model...\n",
      "Predicting...\n",
      "88/88 [==============================] - 10s 87ms/step\n",
      "\n"
     ]
    }
   ],
   "source": [
    "print('='*35)\n",
    "print('### Inference')\n",
    "print('='*35)\n",
    "preds=[]\n",
    "for dim, model_paths in tqdm(MODEL_CONFIGS):\n",
    "    test_paths = test_df.image_path.tolist()\n",
    "    if len(test_paths)<=8:\n",
    "        CFG.batch_size = 1\n",
    "    elif dim>=768:\n",
    "        CFG.batch_size = REPLICAS * 16\n",
    "    elif dim>=640:\n",
    "        CFG.batch_size = REPLICAS * 24\n",
    "    else:\n",
    "        CFG.batch_size = REPLICAS * 32\n",
    "    dtest = build_dataset(\n",
    "        test_paths, \n",
    "        batch_size=CFG.batch_size, repeat=True, \n",
    "        shuffle=False, augment=True if CFG.tta>1 else False, cache=False,\n",
    "        decode_fn=build_decoder(with_labels=False, target_size=[dim,dim]),\n",
    "        augment_fn=build_augmenter(with_labels=False, dim=[dim, dim])\n",
    "    )\n",
    "    for model_path in model_paths:\n",
    "        print(f'Model: {model_path}')\n",
    "        with strategy.scope():\n",
    "            print('Loading Model...')\n",
    "            model = tf.keras.models.load_model(model_path, compile=False)\n",
    "        print('Predicting...');\n",
    "        pred = model.predict(dtest, steps = CFG.tta*len(test_paths)/CFG.batch_size, verbose=1)\n",
    "        pred = pred[:CFG.tta*len(test_paths),:]\n",
    "        pred = np.mean(pred.reshape(CFG.tta, len(test_paths), -1), axis=0)\n",
    "        preds.append(pred*100.0) # denormalizing from [0-1] to [0-100]\n",
    "        print()\n",
    "preds = np.mean(preds, axis=0)"
   ]
  },
  {
   "cell_type": "markdown",
   "id": "12d35027",
   "metadata": {
    "papermill": {
     "duration": 0.142132,
     "end_time": "2021-10-02T10:06:59.373390",
     "exception": false,
     "start_time": "2021-10-02T10:06:59.231258",
     "status": "completed"
    },
    "tags": []
   },
   "source": [
    "# Submission"
   ]
  },
  {
   "cell_type": "code",
   "execution_count": 14,
   "id": "fc117198",
   "metadata": {
    "execution": {
     "iopub.execute_input": "2021-10-02T10:06:59.669078Z",
     "iopub.status.busy": "2021-10-02T10:06:59.668552Z",
     "iopub.status.idle": "2021-10-02T10:06:59.703018Z",
     "shell.execute_reply": "2021-10-02T10:06:59.703558Z",
     "shell.execute_reply.started": "2021-09-30T16:00:32.186074Z"
    },
    "papermill": {
     "duration": 0.18721,
     "end_time": "2021-10-02T10:06:59.703740",
     "exception": false,
     "start_time": "2021-10-02T10:06:59.516530",
     "status": "completed"
    },
    "tags": []
   },
   "outputs": [
    {
     "data": {
      "text/html": [
       "<div>\n",
       "<style scoped>\n",
       "    .dataframe tbody tr th:only-of-type {\n",
       "        vertical-align: middle;\n",
       "    }\n",
       "\n",
       "    .dataframe tbody tr th {\n",
       "        vertical-align: top;\n",
       "    }\n",
       "\n",
       "    .dataframe thead th {\n",
       "        text-align: right;\n",
       "    }\n",
       "</style>\n",
       "<table border=\"1\" class=\"dataframe\">\n",
       "  <thead>\n",
       "    <tr style=\"text-align: right;\">\n",
       "      <th></th>\n",
       "      <th>Id</th>\n",
       "      <th>Pawpularity</th>\n",
       "    </tr>\n",
       "  </thead>\n",
       "  <tbody>\n",
       "    <tr>\n",
       "      <th>0</th>\n",
       "      <td>4128bae22183829d2b5fea10effdb0c3</td>\n",
       "      <td>34.964565</td>\n",
       "    </tr>\n",
       "    <tr>\n",
       "      <th>1</th>\n",
       "      <td>43a2262d7738e3d420d453815151079e</td>\n",
       "      <td>32.910736</td>\n",
       "    </tr>\n",
       "  </tbody>\n",
       "</table>\n",
       "</div>"
      ],
      "text/plain": [
       "                                 Id  Pawpularity\n",
       "0  4128bae22183829d2b5fea10effdb0c3    34.964565\n",
       "1  43a2262d7738e3d420d453815151079e    32.910736"
      ]
     },
     "execution_count": 14,
     "metadata": {},
     "output_type": "execute_result"
    }
   ],
   "source": [
    "pred_df = pd.DataFrame({'Id':test_df.Id,\n",
    "                        'Pawpularity':preds.reshape(-1)})\n",
    "sub_df = pd.read_csv('/kaggle/input/petfinder-pawpularity-score/sample_submission.csv')\n",
    "del sub_df['Pawpularity']\n",
    "sub_df = sub_df.merge(pred_df, on='Id', how='left')\n",
    "sub_df.to_csv('submission.csv',index=False)\n",
    "sub_df.head(2)"
   ]
  }
 ],
 "metadata": {
  "kernelspec": {
   "display_name": "Python 3",
   "language": "python",
   "name": "python3"
  },
  "language_info": {
   "codemirror_mode": {
    "name": "ipython",
    "version": 3
   },
   "file_extension": ".py",
   "mimetype": "text/x-python",
   "name": "python",
   "nbconvert_exporter": "python",
   "pygments_lexer": "ipython3",
   "version": "3.7.10"
  },
  "papermill": {
   "default_parameters": {},
   "duration": 169.659091,
   "end_time": "2021-10-02T10:07:03.415208",
   "environment_variables": {},
   "exception": null,
   "input_path": "__notebook__.ipynb",
   "output_path": "__notebook__.ipynb",
   "parameters": {},
   "start_time": "2021-10-02T10:04:13.756117",
   "version": "2.3.3"
  },
  "widgets": {
   "application/vnd.jupyter.widget-state+json": {
    "state": {
     "0a19eb68a3ba4e2c9906af6d63cbc147": {
      "model_module": "@jupyter-widgets/base",
      "model_module_version": "1.2.0",
      "model_name": "LayoutModel",
      "state": {
       "_model_module": "@jupyter-widgets/base",
       "_model_module_version": "1.2.0",
       "_model_name": "LayoutModel",
       "_view_count": null,
       "_view_module": "@jupyter-widgets/base",
       "_view_module_version": "1.2.0",
       "_view_name": "LayoutView",
       "align_content": null,
       "align_items": null,
       "align_self": null,
       "border": null,
       "bottom": null,
       "display": null,
       "flex": null,
       "flex_flow": null,
       "grid_area": null,
       "grid_auto_columns": null,
       "grid_auto_flow": null,
       "grid_auto_rows": null,
       "grid_column": null,
       "grid_gap": null,
       "grid_row": null,
       "grid_template_areas": null,
       "grid_template_columns": null,
       "grid_template_rows": null,
       "height": null,
       "justify_content": null,
       "justify_items": null,
       "left": null,
       "margin": null,
       "max_height": null,
       "max_width": null,
       "min_height": null,
       "min_width": null,
       "object_fit": null,
       "object_position": null,
       "order": null,
       "overflow": null,
       "overflow_x": null,
       "overflow_y": null,
       "padding": null,
       "right": null,
       "top": null,
       "visibility": null,
       "width": null
      }
     },
     "2217f9ca53954020954386475ad91717": {
      "model_module": "@jupyter-widgets/base",
      "model_module_version": "1.2.0",
      "model_name": "LayoutModel",
      "state": {
       "_model_module": "@jupyter-widgets/base",
       "_model_module_version": "1.2.0",
       "_model_name": "LayoutModel",
       "_view_count": null,
       "_view_module": "@jupyter-widgets/base",
       "_view_module_version": "1.2.0",
       "_view_name": "LayoutView",
       "align_content": null,
       "align_items": null,
       "align_self": null,
       "border": null,
       "bottom": null,
       "display": null,
       "flex": null,
       "flex_flow": null,
       "grid_area": null,
       "grid_auto_columns": null,
       "grid_auto_flow": null,
       "grid_auto_rows": null,
       "grid_column": null,
       "grid_gap": null,
       "grid_row": null,
       "grid_template_areas": null,
       "grid_template_columns": null,
       "grid_template_rows": null,
       "height": null,
       "justify_content": null,
       "justify_items": null,
       "left": null,
       "margin": null,
       "max_height": null,
       "max_width": null,
       "min_height": null,
       "min_width": null,
       "object_fit": null,
       "object_position": null,
       "order": null,
       "overflow": null,
       "overflow_x": null,
       "overflow_y": null,
       "padding": null,
       "right": null,
       "top": null,
       "visibility": null,
       "width": null
      }
     },
     "2b73a583953d4dd48334365b11e31437": {
      "model_module": "@jupyter-widgets/controls",
      "model_module_version": "1.5.0",
      "model_name": "HTMLModel",
      "state": {
       "_dom_classes": [],
       "_model_module": "@jupyter-widgets/controls",
       "_model_module_version": "1.5.0",
       "_model_name": "HTMLModel",
       "_view_count": null,
       "_view_module": "@jupyter-widgets/controls",
       "_view_module_version": "1.5.0",
       "_view_name": "HTMLView",
       "description": "",
       "description_tooltip": null,
       "layout": "IPY_MODEL_e1162d58ea954d308d0dc61bff9cc0d0",
       "placeholder": "​",
       "style": "IPY_MODEL_ee63d15c25b546a686955ecf17112fec",
       "value": "100%"
      }
     },
     "384ec41be4434b489a31e49180227d50": {
      "model_module": "@jupyter-widgets/controls",
      "model_module_version": "1.5.0",
      "model_name": "FloatProgressModel",
      "state": {
       "_dom_classes": [],
       "_model_module": "@jupyter-widgets/controls",
       "_model_module_version": "1.5.0",
       "_model_name": "FloatProgressModel",
       "_view_count": null,
       "_view_module": "@jupyter-widgets/controls",
       "_view_module_version": "1.5.0",
       "_view_name": "ProgressView",
       "bar_style": "success",
       "description": "",
       "description_tooltip": null,
       "layout": "IPY_MODEL_2217f9ca53954020954386475ad91717",
       "max": 1.0,
       "min": 0.0,
       "orientation": "horizontal",
       "style": "IPY_MODEL_69fb4a95fbd94636827d79ab761c4f12",
       "value": 1.0
      }
     },
     "69fb4a95fbd94636827d79ab761c4f12": {
      "model_module": "@jupyter-widgets/controls",
      "model_module_version": "1.5.0",
      "model_name": "ProgressStyleModel",
      "state": {
       "_model_module": "@jupyter-widgets/controls",
       "_model_module_version": "1.5.0",
       "_model_name": "ProgressStyleModel",
       "_view_count": null,
       "_view_module": "@jupyter-widgets/base",
       "_view_module_version": "1.2.0",
       "_view_name": "StyleView",
       "bar_color": null,
       "description_width": ""
      }
     },
     "ad39c67e2bbc441f8e1616f4d526586e": {
      "model_module": "@jupyter-widgets/controls",
      "model_module_version": "1.5.0",
      "model_name": "DescriptionStyleModel",
      "state": {
       "_model_module": "@jupyter-widgets/controls",
       "_model_module_version": "1.5.0",
       "_model_name": "DescriptionStyleModel",
       "_view_count": null,
       "_view_module": "@jupyter-widgets/base",
       "_view_module_version": "1.2.0",
       "_view_name": "StyleView",
       "description_width": ""
      }
     },
     "b0c581baff2f464b99d0039b7fd6cd49": {
      "model_module": "@jupyter-widgets/base",
      "model_module_version": "1.2.0",
      "model_name": "LayoutModel",
      "state": {
       "_model_module": "@jupyter-widgets/base",
       "_model_module_version": "1.2.0",
       "_model_name": "LayoutModel",
       "_view_count": null,
       "_view_module": "@jupyter-widgets/base",
       "_view_module_version": "1.2.0",
       "_view_name": "LayoutView",
       "align_content": null,
       "align_items": null,
       "align_self": null,
       "border": null,
       "bottom": null,
       "display": null,
       "flex": null,
       "flex_flow": null,
       "grid_area": null,
       "grid_auto_columns": null,
       "grid_auto_flow": null,
       "grid_auto_rows": null,
       "grid_column": null,
       "grid_gap": null,
       "grid_row": null,
       "grid_template_areas": null,
       "grid_template_columns": null,
       "grid_template_rows": null,
       "height": null,
       "justify_content": null,
       "justify_items": null,
       "left": null,
       "margin": null,
       "max_height": null,
       "max_width": null,
       "min_height": null,
       "min_width": null,
       "object_fit": null,
       "object_position": null,
       "order": null,
       "overflow": null,
       "overflow_x": null,
       "overflow_y": null,
       "padding": null,
       "right": null,
       "top": null,
       "visibility": null,
       "width": null
      }
     },
     "e1162d58ea954d308d0dc61bff9cc0d0": {
      "model_module": "@jupyter-widgets/base",
      "model_module_version": "1.2.0",
      "model_name": "LayoutModel",
      "state": {
       "_model_module": "@jupyter-widgets/base",
       "_model_module_version": "1.2.0",
       "_model_name": "LayoutModel",
       "_view_count": null,
       "_view_module": "@jupyter-widgets/base",
       "_view_module_version": "1.2.0",
       "_view_name": "LayoutView",
       "align_content": null,
       "align_items": null,
       "align_self": null,
       "border": null,
       "bottom": null,
       "display": null,
       "flex": null,
       "flex_flow": null,
       "grid_area": null,
       "grid_auto_columns": null,
       "grid_auto_flow": null,
       "grid_auto_rows": null,
       "grid_column": null,
       "grid_gap": null,
       "grid_row": null,
       "grid_template_areas": null,
       "grid_template_columns": null,
       "grid_template_rows": null,
       "height": null,
       "justify_content": null,
       "justify_items": null,
       "left": null,
       "margin": null,
       "max_height": null,
       "max_width": null,
       "min_height": null,
       "min_width": null,
       "object_fit": null,
       "object_position": null,
       "order": null,
       "overflow": null,
       "overflow_x": null,
       "overflow_y": null,
       "padding": null,
       "right": null,
       "top": null,
       "visibility": null,
       "width": null
      }
     },
     "ee63d15c25b546a686955ecf17112fec": {
      "model_module": "@jupyter-widgets/controls",
      "model_module_version": "1.5.0",
      "model_name": "DescriptionStyleModel",
      "state": {
       "_model_module": "@jupyter-widgets/controls",
       "_model_module_version": "1.5.0",
       "_model_name": "DescriptionStyleModel",
       "_view_count": null,
       "_view_module": "@jupyter-widgets/base",
       "_view_module_version": "1.2.0",
       "_view_name": "StyleView",
       "description_width": ""
      }
     },
     "f88cb5650be94d53a63edb0547b65e75": {
      "model_module": "@jupyter-widgets/controls",
      "model_module_version": "1.5.0",
      "model_name": "HBoxModel",
      "state": {
       "_dom_classes": [],
       "_model_module": "@jupyter-widgets/controls",
       "_model_module_version": "1.5.0",
       "_model_name": "HBoxModel",
       "_view_count": null,
       "_view_module": "@jupyter-widgets/controls",
       "_view_module_version": "1.5.0",
       "_view_name": "HBoxView",
       "box_style": "",
       "children": [
        "IPY_MODEL_2b73a583953d4dd48334365b11e31437",
        "IPY_MODEL_384ec41be4434b489a31e49180227d50",
        "IPY_MODEL_fb6406eb0ca44da6842223cbd6fd0538"
       ],
       "layout": "IPY_MODEL_b0c581baff2f464b99d0039b7fd6cd49"
      }
     },
     "fb6406eb0ca44da6842223cbd6fd0538": {
      "model_module": "@jupyter-widgets/controls",
      "model_module_version": "1.5.0",
      "model_name": "HTMLModel",
      "state": {
       "_dom_classes": [],
       "_model_module": "@jupyter-widgets/controls",
       "_model_module_version": "1.5.0",
       "_model_name": "HTMLModel",
       "_view_count": null,
       "_view_module": "@jupyter-widgets/controls",
       "_view_module_version": "1.5.0",
       "_view_name": "HTMLView",
       "description": "",
       "description_tooltip": null,
       "layout": "IPY_MODEL_0a19eb68a3ba4e2c9906af6d63cbc147",
       "placeholder": "​",
       "style": "IPY_MODEL_ad39c67e2bbc441f8e1616f4d526586e",
       "value": " 1/1 [01:35&lt;00:00, 95.55s/it]"
      }
     }
    },
    "version_major": 2,
    "version_minor": 0
   }
  }
 },
 "nbformat": 4,
 "nbformat_minor": 5
}
